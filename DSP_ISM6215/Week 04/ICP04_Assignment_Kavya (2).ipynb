{
 "cells": [
  {
   "cell_type": "markdown",
   "id": "3d1a9f90",
   "metadata": {},
   "source": [
    "## ICP04 Decision Trees"
   ]
  },
  {
   "cell_type": "markdown",
   "id": "908a70fe",
   "metadata": {},
   "source": [
    "### 1.Importing Libraries"
   ]
  },
  {
   "cell_type": "code",
   "execution_count": 1,
   "id": "1d3b4047",
   "metadata": {},
   "outputs": [],
   "source": [
    "import pandas as pd\n",
    "from sklearn.tree import DecisionTreeClassifier \n",
    "from matplotlib import pyplot as plt\n",
    "import numpy as np\n",
    "from sklearn.metrics import confusion_matrix\n",
    "from sklearn.model_selection import GridSearchCV, RandomizedSearchCV\n",
    "\n",
    "from sklearn.svm import SVC\n",
    "np.random.seed(1)"
   ]
  },
  {
   "cell_type": "code",
   "execution_count": 2,
   "id": "b39b9cfc",
   "metadata": {},
   "outputs": [
    {
     "name": "stdout",
     "output_type": "stream",
     "text": [
      "C:\\Users\\Kavya Reddy Basupall\n"
     ]
    }
   ],
   "source": [
    "import os\n",
    "print(os.getcwd())"
   ]
  },
  {
   "cell_type": "markdown",
   "id": "22794a03",
   "metadata": {},
   "source": [
    "### 2.Loading data"
   ]
  },
  {
   "cell_type": "code",
   "execution_count": 3,
   "id": "7f3df79b",
   "metadata": {},
   "outputs": [],
   "source": [
    "X_train = pd.read_csv(\"C:/Users/Kavya Reddy Basupall/Downloads/airbnb_train_X_price_gte_150.csv\") \n",
    "y_train = pd.read_csv(\"C:/Users/Kavya Reddy Basupall/Downloads/airbnb_train_y_price_gte_150.csv\") \n",
    "X_test = pd.read_csv(\"C:/Users/Kavya Reddy Basupall/Downloads/airbnb_test_X_price_gte_150.csv\") \n",
    "y_test = pd.read_csv(\"C:/Users/Kavya Reddy Basupall/Downloads/airbnb_test_y_price_gte_150.csv\") "
   ]
  },
  {
   "cell_type": "markdown",
   "id": "99bdc6d4",
   "metadata": {},
   "source": [
    "### 3. Fitting SVM Model using poly kernel for the data "
   ]
  },
  {
   "cell_type": "code",
   "execution_count": 4,
   "id": "3b27f027",
   "metadata": {},
   "outputs": [],
   "source": [
    "performance = pd.DataFrame({\"model\": [], \"Accuracy\": [], \"Precision\": [], \"Recall\": [], \"F1\": []})"
   ]
  },
  {
   "cell_type": "code",
   "execution_count": 5,
   "id": "9e8e25ad",
   "metadata": {},
   "outputs": [],
   "source": [
    "svm_poly_model = SVC(kernel=\"poly\", degree=3, coef0=1, C=10)\n",
    "_ = svm_poly_model.fit(X_train, np.ravel(y_train))"
   ]
  },
  {
   "cell_type": "code",
   "execution_count": 6,
   "id": "e971170b",
   "metadata": {},
   "outputs": [],
   "source": [
    "model_preds = svm_poly_model.predict(X_train)\n",
    "c_matrix = confusion_matrix(y_train, model_preds)\n",
    "TP = c_matrix[1][1]\n",
    "TN = c_matrix[0][0]\n",
    "FP = c_matrix[0][1]\n",
    "FN = c_matrix[1][0]\n",
    "performance = pd.concat([performance, pd.DataFrame({'model':\"poly svm\", \n",
    "                                                    'Accuracy': [(TP+TN)/(TP+TN+FP+FN)], \n",
    "                                                    'Precision': [TP/(TP+FP)], \n",
    "                                                    'Recall': [TP/(TP+FN)], \n",
    "                                                    'F1': [2*TP/(2*TP+FP+FN)]\n",
    "                                                     }, index=[0])])"
   ]
  },
  {
   "cell_type": "code",
   "execution_count": 7,
   "id": "04ab47d8",
   "metadata": {},
   "outputs": [
    {
     "data": {
      "text/html": [
       "<div>\n",
       "<style scoped>\n",
       "    .dataframe tbody tr th:only-of-type {\n",
       "        vertical-align: middle;\n",
       "    }\n",
       "\n",
       "    .dataframe tbody tr th {\n",
       "        vertical-align: top;\n",
       "    }\n",
       "\n",
       "    .dataframe thead th {\n",
       "        text-align: right;\n",
       "    }\n",
       "</style>\n",
       "<table border=\"1\" class=\"dataframe\">\n",
       "  <thead>\n",
       "    <tr style=\"text-align: right;\">\n",
       "      <th></th>\n",
       "      <th>model</th>\n",
       "      <th>Accuracy</th>\n",
       "      <th>Precision</th>\n",
       "      <th>Recall</th>\n",
       "      <th>F1</th>\n",
       "    </tr>\n",
       "  </thead>\n",
       "  <tbody>\n",
       "    <tr>\n",
       "      <th>0</th>\n",
       "      <td>poly svm</td>\n",
       "      <td>0.927653</td>\n",
       "      <td>0.910769</td>\n",
       "      <td>0.948718</td>\n",
       "      <td>0.929356</td>\n",
       "    </tr>\n",
       "  </tbody>\n",
       "</table>\n",
       "</div>"
      ],
      "text/plain": [
       "      model  Accuracy  Precision    Recall        F1\n",
       "0  poly svm  0.927653   0.910769  0.948718  0.929356"
      ]
     },
     "execution_count": 7,
     "metadata": {},
     "output_type": "execute_result"
    }
   ],
   "source": [
    "performance"
   ]
  },
  {
   "cell_type": "markdown",
   "id": "64e4eb6b",
   "metadata": {},
   "source": [
    "### NOTE: In this next section, GridSearch will use K Fold Cross Validation\n",
    "K-Fold cross validation is used to avoid overfitting. \n",
    "\n",
    "In k-fold cross-validation, the original sample is randomly partitioned into k equal sized subsamples. Of the k subsamples, a single subsample is retained as the validation data for testing the model, and the remaining k − 1 subsamples are used as training data. The cross-validation process is then repeated k times, with each of the k subsamples used exactly once as the validation data. The k results can then be averaged to produce a single estimation. \n",
    "![cross validation diagram](https://scikit-learn.org/stable/_images/grid_search_cross_validation.png)\n",
    "\n"
   ]
  },
  {
   "cell_type": "markdown",
   "id": "a10bc8f4",
   "metadata": {},
   "source": [
    "### 4. Fitting Decision Tree modelling "
   ]
  },
  {
   "cell_type": "code",
   "execution_count": null,
   "id": "f1bd29f5",
   "metadata": {},
   "outputs": [
    {
     "name": "stdout",
     "output_type": "stream",
     "text": [
      "Fitting 7 folds for each of 13608 candidates, totalling 95256 fits\n"
     ]
    }
   ],
   "source": [
    "score_measure = \"precision\"\n",
    "kfolds = 7\n",
    "\n",
    "param_grid = {\n",
    "    'min_samples_split': np.arange(39,48),  \n",
    "    'min_samples_leaf': np.arange(6,12),\n",
    "    'min_impurity_decrease': np.arange(0.0048, 0.0054, 0.0001),\n",
    "    'max_leaf_nodes': np.arange(162,168), \n",
    "    'max_depth': np.arange(15,21), \n",
    "    'criterion': ['entropy'],\n",
    "}\n",
    "\n",
    "dtree = DecisionTreeClassifier()\n",
    "grid_search = GridSearchCV(estimator = dtree, param_grid=param_grid, cv=kfolds, \n",
    "                           scoring=score_measure, verbose=1, n_jobs=-1,  # n_jobs=-1 will utilize all available CPUs \n",
    "                           return_train_score=True)\n",
    "\n",
    "_ = grid_search.fit(X_train, y_train)\n",
    "\n",
    "print(f\"The best {score_measure} score is {grid_search.best_score_}\")\n",
    "print(f\"... with parameters: {grid_search.best_params_}\")\n",
    "\n",
    "bestRecallTree = grid_search.best_estimator_"
   ]
  },
  {
   "cell_type": "code",
   "execution_count": null,
   "id": "d777b428",
   "metadata": {},
   "outputs": [],
   "source": [
    "c_matrix = confusion_matrix(y_test, grid_search.predict(X_test))\n",
    "TP = c_matrix[1][1]\n",
    "TN = c_matrix[0][0]\n",
    "FP = c_matrix[0][1]\n",
    "FN = c_matrix[1][0]\n",
    "print(f\"Accuracy={(TP+TN)/(TP+TN+FP+FN):.7f} Precision={TP/(TP+FP):.7f} Recall={TP/(TP+FN):.7f} F1={2*TP/(2*TP+FP+FN):.7f}\")"
   ]
  },
  {
   "cell_type": "markdown",
   "id": "75dab06d",
   "metadata": {},
   "source": [
    "###  Importance of features"
   ]
  },
  {
   "cell_type": "code",
   "execution_count": null,
   "id": "36e0498b",
   "metadata": {},
   "outputs": [],
   "source": [
    "from sklearn.tree import plot_tree\n",
    "import matplotlib.pyplot as plt\n",
    "\n",
    "plt.figure(figsize=(125,50))\n",
    "tree = plot_tree(grid_search.best_estimator_, \n",
    "              #feature_names=train_inputs.columns.values, # our feature names are stripped from the data set\n",
    "              class_names=['lt 150', 'gte 150'], \n",
    "              filled=True, \n",
    "              rounded=True, \n",
    "              fontsize=14)"
   ]
  },
  {
   "cell_type": "markdown",
   "id": "45a8e223",
   "metadata": {},
   "source": [
    "### CONCLUSION:\n",
    "From both the models we can see the performance of accuracy, precision, recall and F1 Score.\n",
    "\n",
    "SVM Model using poly kernel displays \n",
    "Accuracy = 0.927653 ; Precision= 0.910769 ; Recall= 0.948718 ; F1 Score =0.929356\n",
    "\n",
    "Where as Decision Tree using grid search shows, \n",
    "Accuracy =0.8462980 ; Precision= 0.8379374; Recall =0.8568738 ;F1 Score = 0.8472998\n",
    "\n",
    "1. Decision Tree shows low performance compared to SVM Model using Kernel , all the measures i.e., accuracy, precision, REcall and F1Score are low.\n",
    "2. Decisoion Tree Modelling is more time consuming and takes more memory to evaluate the performance.\n",
    "\n",
    "From this it is clear that SVM Modelling is best compared to Decision tree modelling of data.\n",
    "Precision being the scoring measure to optimize the model precision value of SVM using poly kernel is more when compared to the value of Decision tree's precision.\n"
   ]
  }
 ],
 "metadata": {
  "kernelspec": {
   "display_name": "Python 3 (ipykernel)",
   "language": "python",
   "name": "python3"
  },
  "language_info": {
   "codemirror_mode": {
    "name": "ipython",
    "version": 3
   },
   "file_extension": ".py",
   "mimetype": "text/x-python",
   "name": "python",
   "nbconvert_exporter": "python",
   "pygments_lexer": "ipython3",
   "version": "3.9.12"
  }
 },
 "nbformat": 4,
 "nbformat_minor": 5
}

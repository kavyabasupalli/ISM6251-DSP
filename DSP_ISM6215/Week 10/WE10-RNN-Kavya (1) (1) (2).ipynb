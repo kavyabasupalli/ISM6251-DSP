{
 "cells": [
  {
   "cell_type": "markdown",
   "id": "a9242f05",
   "metadata": {},
   "source": [
    "# Predicting the Closing Stock Price of Costco - Assignment (U22892161)\n",
    "\n",
    "In this notebook. we will predict the closing stock price on 10th day for a company called COSTCO.\n",
    "\n",
    "To get our data, go to\n",
    "\n",
    "https://finance.yahoo.com/quote/COST/history?period1=1649548800&period2=1682208000&interval=1d&filter=history&frequency=1d&includeAdjustedClose=true\n",
    "\n",
    "(which is the stock history of COSTCO company) and download stock data for the 1 year.I have Downlownded this data (it will be in csv format) and store it in your working directory (the directory this notebook is in).\n"
   ]
  },
  {
   "cell_type": "markdown",
   "id": "9e0ce0b4",
   "metadata": {},
   "source": [
    "## STEP 1: Importing and Install Python Libraries "
   ]
  },
  {
   "cell_type": "code",
   "execution_count": 1,
   "id": "fb30f21f",
   "metadata": {},
   "outputs": [],
   "source": [
    "import pandas as pd\n",
    "import numpy as np\n",
    "\n",
    "import tensorflow as tf\n",
    "from tensorflow import keras\n",
    "\n",
    "from tensorflow.keras import Sequential\n",
    "from tensorflow.keras.layers import Dense, LSTM, SimpleRNN, GRU, Conv1D\n",
    "\n",
    "np.random.seed(1)\n",
    "tf.random.set_seed(1)\n",
    "\n",
    "# To plot pretty figures\n",
    "%matplotlib inline\n",
    "import matplotlib as mpl\n",
    "import matplotlib.pyplot as plt\n",
    "mpl.rc('axes', labelsize=14)\n",
    "mpl.rc('xtick', labelsize=12)\n",
    "mpl.rc('ytick', labelsize=12)"
   ]
  },
  {
   "cell_type": "markdown",
   "id": "f7691e50",
   "metadata": {},
   "source": [
    "## STEP 2:  Read the Dataset"
   ]
  },
  {
   "cell_type": "code",
   "execution_count": 2,
   "id": "bf156689",
   "metadata": {},
   "outputs": [
    {
     "data": {
      "text/html": [
       "<div>\n",
       "<style scoped>\n",
       "    .dataframe tbody tr th:only-of-type {\n",
       "        vertical-align: middle;\n",
       "    }\n",
       "\n",
       "    .dataframe tbody tr th {\n",
       "        vertical-align: top;\n",
       "    }\n",
       "\n",
       "    .dataframe thead th {\n",
       "        text-align: right;\n",
       "    }\n",
       "</style>\n",
       "<table border=\"1\" class=\"dataframe\">\n",
       "  <thead>\n",
       "    <tr style=\"text-align: right;\">\n",
       "      <th></th>\n",
       "      <th>Date</th>\n",
       "      <th>Open</th>\n",
       "      <th>High</th>\n",
       "      <th>Low</th>\n",
       "      <th>Close</th>\n",
       "      <th>Adj Close</th>\n",
       "      <th>Volume</th>\n",
       "    </tr>\n",
       "  </thead>\n",
       "  <tbody>\n",
       "    <tr>\n",
       "      <th>0</th>\n",
       "      <td>2022-04-11</td>\n",
       "      <td>598.789978</td>\n",
       "      <td>601.000000</td>\n",
       "      <td>582.799988</td>\n",
       "      <td>584.669983</td>\n",
       "      <td>580.653625</td>\n",
       "      <td>2792700</td>\n",
       "    </tr>\n",
       "    <tr>\n",
       "      <th>1</th>\n",
       "      <td>2022-04-12</td>\n",
       "      <td>586.690002</td>\n",
       "      <td>591.729980</td>\n",
       "      <td>578.760010</td>\n",
       "      <td>581.359985</td>\n",
       "      <td>577.366394</td>\n",
       "      <td>2142000</td>\n",
       "    </tr>\n",
       "    <tr>\n",
       "      <th>2</th>\n",
       "      <td>2022-04-13</td>\n",
       "      <td>582.469971</td>\n",
       "      <td>593.489990</td>\n",
       "      <td>582.469971</td>\n",
       "      <td>591.090027</td>\n",
       "      <td>587.029663</td>\n",
       "      <td>2211800</td>\n",
       "    </tr>\n",
       "    <tr>\n",
       "      <th>3</th>\n",
       "      <td>2022-04-14</td>\n",
       "      <td>591.780029</td>\n",
       "      <td>596.280029</td>\n",
       "      <td>587.049988</td>\n",
       "      <td>590.390015</td>\n",
       "      <td>586.334412</td>\n",
       "      <td>2206200</td>\n",
       "    </tr>\n",
       "    <tr>\n",
       "      <th>4</th>\n",
       "      <td>2022-04-18</td>\n",
       "      <td>585.380005</td>\n",
       "      <td>592.109985</td>\n",
       "      <td>579.599976</td>\n",
       "      <td>582.119995</td>\n",
       "      <td>578.121155</td>\n",
       "      <td>2161900</td>\n",
       "    </tr>\n",
       "  </tbody>\n",
       "</table>\n",
       "</div>"
      ],
      "text/plain": [
       "         Date        Open        High         Low       Close   Adj Close  \\\n",
       "0  2022-04-11  598.789978  601.000000  582.799988  584.669983  580.653625   \n",
       "1  2022-04-12  586.690002  591.729980  578.760010  581.359985  577.366394   \n",
       "2  2022-04-13  582.469971  593.489990  582.469971  591.090027  587.029663   \n",
       "3  2022-04-14  591.780029  596.280029  587.049988  590.390015  586.334412   \n",
       "4  2022-04-18  585.380005  592.109985  579.599976  582.119995  578.121155   \n",
       "\n",
       "    Volume  \n",
       "0  2792700  \n",
       "1  2142000  \n",
       "2  2211800  \n",
       "3  2206200  \n",
       "4  2161900  "
      ]
     },
     "execution_count": 2,
     "metadata": {},
     "output_type": "execute_result"
    }
   ],
   "source": [
    "import pandas as pd\n",
    "\n",
    "costco = pd.read_csv('C:/Users/Kavya Reddy Basupall/Downloads/COST (2).csv')\n",
    "\n",
    "costco.head()"
   ]
  },
  {
   "cell_type": "code",
   "execution_count": 3,
   "id": "ab5a07d2",
   "metadata": {},
   "outputs": [
    {
     "data": {
      "text/html": [
       "<div>\n",
       "<style scoped>\n",
       "    .dataframe tbody tr th:only-of-type {\n",
       "        vertical-align: middle;\n",
       "    }\n",
       "\n",
       "    .dataframe tbody tr th {\n",
       "        vertical-align: top;\n",
       "    }\n",
       "\n",
       "    .dataframe thead th {\n",
       "        text-align: right;\n",
       "    }\n",
       "</style>\n",
       "<table border=\"1\" class=\"dataframe\">\n",
       "  <thead>\n",
       "    <tr style=\"text-align: right;\">\n",
       "      <th></th>\n",
       "      <th>Date</th>\n",
       "      <th>Open</th>\n",
       "      <th>High</th>\n",
       "      <th>Low</th>\n",
       "      <th>Close</th>\n",
       "      <th>Adj Close</th>\n",
       "      <th>Volume</th>\n",
       "    </tr>\n",
       "  </thead>\n",
       "  <tbody>\n",
       "    <tr>\n",
       "      <th>0</th>\n",
       "      <td>2022-04-11</td>\n",
       "      <td>598.789978</td>\n",
       "      <td>601.000000</td>\n",
       "      <td>582.799988</td>\n",
       "      <td>584.669983</td>\n",
       "      <td>580.653625</td>\n",
       "      <td>2792700</td>\n",
       "    </tr>\n",
       "    <tr>\n",
       "      <th>1</th>\n",
       "      <td>2022-04-12</td>\n",
       "      <td>586.690002</td>\n",
       "      <td>591.729980</td>\n",
       "      <td>578.760010</td>\n",
       "      <td>581.359985</td>\n",
       "      <td>577.366394</td>\n",
       "      <td>2142000</td>\n",
       "    </tr>\n",
       "    <tr>\n",
       "      <th>2</th>\n",
       "      <td>2022-04-13</td>\n",
       "      <td>582.469971</td>\n",
       "      <td>593.489990</td>\n",
       "      <td>582.469971</td>\n",
       "      <td>591.090027</td>\n",
       "      <td>587.029663</td>\n",
       "      <td>2211800</td>\n",
       "    </tr>\n",
       "    <tr>\n",
       "      <th>3</th>\n",
       "      <td>2022-04-14</td>\n",
       "      <td>591.780029</td>\n",
       "      <td>596.280029</td>\n",
       "      <td>587.049988</td>\n",
       "      <td>590.390015</td>\n",
       "      <td>586.334412</td>\n",
       "      <td>2206200</td>\n",
       "    </tr>\n",
       "    <tr>\n",
       "      <th>4</th>\n",
       "      <td>2022-04-18</td>\n",
       "      <td>585.380005</td>\n",
       "      <td>592.109985</td>\n",
       "      <td>579.599976</td>\n",
       "      <td>582.119995</td>\n",
       "      <td>578.121155</td>\n",
       "      <td>2161900</td>\n",
       "    </tr>\n",
       "    <tr>\n",
       "      <th>...</th>\n",
       "      <td>...</td>\n",
       "      <td>...</td>\n",
       "      <td>...</td>\n",
       "      <td>...</td>\n",
       "      <td>...</td>\n",
       "      <td>...</td>\n",
       "      <td>...</td>\n",
       "    </tr>\n",
       "    <tr>\n",
       "      <th>254</th>\n",
       "      <td>2023-04-17</td>\n",
       "      <td>492.769989</td>\n",
       "      <td>497.890015</td>\n",
       "      <td>491.149994</td>\n",
       "      <td>493.940002</td>\n",
       "      <td>493.940002</td>\n",
       "      <td>1411800</td>\n",
       "    </tr>\n",
       "    <tr>\n",
       "      <th>255</th>\n",
       "      <td>2023-04-18</td>\n",
       "      <td>496.100006</td>\n",
       "      <td>497.630005</td>\n",
       "      <td>494.119995</td>\n",
       "      <td>496.899994</td>\n",
       "      <td>496.899994</td>\n",
       "      <td>1339600</td>\n",
       "    </tr>\n",
       "    <tr>\n",
       "      <th>256</th>\n",
       "      <td>2023-04-19</td>\n",
       "      <td>497.130005</td>\n",
       "      <td>497.989990</td>\n",
       "      <td>493.829987</td>\n",
       "      <td>496.029999</td>\n",
       "      <td>496.029999</td>\n",
       "      <td>1098800</td>\n",
       "    </tr>\n",
       "    <tr>\n",
       "      <th>257</th>\n",
       "      <td>2023-04-20</td>\n",
       "      <td>495.750000</td>\n",
       "      <td>510.660004</td>\n",
       "      <td>495.510010</td>\n",
       "      <td>505.579987</td>\n",
       "      <td>505.579987</td>\n",
       "      <td>2936500</td>\n",
       "    </tr>\n",
       "    <tr>\n",
       "      <th>258</th>\n",
       "      <td>2023-04-21</td>\n",
       "      <td>509.369995</td>\n",
       "      <td>510.640015</td>\n",
       "      <td>505.459991</td>\n",
       "      <td>506.350006</td>\n",
       "      <td>506.350006</td>\n",
       "      <td>1508000</td>\n",
       "    </tr>\n",
       "  </tbody>\n",
       "</table>\n",
       "<p>259 rows × 7 columns</p>\n",
       "</div>"
      ],
      "text/plain": [
       "           Date        Open        High         Low       Close   Adj Close  \\\n",
       "0    2022-04-11  598.789978  601.000000  582.799988  584.669983  580.653625   \n",
       "1    2022-04-12  586.690002  591.729980  578.760010  581.359985  577.366394   \n",
       "2    2022-04-13  582.469971  593.489990  582.469971  591.090027  587.029663   \n",
       "3    2022-04-14  591.780029  596.280029  587.049988  590.390015  586.334412   \n",
       "4    2022-04-18  585.380005  592.109985  579.599976  582.119995  578.121155   \n",
       "..          ...         ...         ...         ...         ...         ...   \n",
       "254  2023-04-17  492.769989  497.890015  491.149994  493.940002  493.940002   \n",
       "255  2023-04-18  496.100006  497.630005  494.119995  496.899994  496.899994   \n",
       "256  2023-04-19  497.130005  497.989990  493.829987  496.029999  496.029999   \n",
       "257  2023-04-20  495.750000  510.660004  495.510010  505.579987  505.579987   \n",
       "258  2023-04-21  509.369995  510.640015  505.459991  506.350006  506.350006   \n",
       "\n",
       "      Volume  \n",
       "0    2792700  \n",
       "1    2142000  \n",
       "2    2211800  \n",
       "3    2206200  \n",
       "4    2161900  \n",
       "..       ...  \n",
       "254  1411800  \n",
       "255  1339600  \n",
       "256  1098800  \n",
       "257  2936500  \n",
       "258  1508000  \n",
       "\n",
       "[259 rows x 7 columns]"
      ]
     },
     "execution_count": 3,
     "metadata": {},
     "output_type": "execute_result"
    }
   ],
   "source": [
    "costco"
   ]
  },
  {
   "cell_type": "code",
   "execution_count": 4,
   "id": "9407fd3f",
   "metadata": {},
   "outputs": [],
   "source": [
    "#Drop the columns we don't need\n",
    "costco = costco.drop(['Open', 'High', 'Low', 'Adj Close', 'Volume'], axis=1)"
   ]
  },
  {
   "cell_type": "code",
   "execution_count": 5,
   "id": "af759b94",
   "metadata": {},
   "outputs": [],
   "source": [
    "costco = costco[['Close']]  #our target column"
   ]
  },
  {
   "cell_type": "code",
   "execution_count": 6,
   "id": "e932e560",
   "metadata": {},
   "outputs": [
    {
     "data": {
      "text/html": [
       "<div>\n",
       "<style scoped>\n",
       "    .dataframe tbody tr th:only-of-type {\n",
       "        vertical-align: middle;\n",
       "    }\n",
       "\n",
       "    .dataframe tbody tr th {\n",
       "        vertical-align: top;\n",
       "    }\n",
       "\n",
       "    .dataframe thead th {\n",
       "        text-align: right;\n",
       "    }\n",
       "</style>\n",
       "<table border=\"1\" class=\"dataframe\">\n",
       "  <thead>\n",
       "    <tr style=\"text-align: right;\">\n",
       "      <th></th>\n",
       "      <th>Close</th>\n",
       "    </tr>\n",
       "  </thead>\n",
       "  <tbody>\n",
       "    <tr>\n",
       "      <th>0</th>\n",
       "      <td>584.669983</td>\n",
       "    </tr>\n",
       "    <tr>\n",
       "      <th>1</th>\n",
       "      <td>581.359985</td>\n",
       "    </tr>\n",
       "    <tr>\n",
       "      <th>2</th>\n",
       "      <td>591.090027</td>\n",
       "    </tr>\n",
       "    <tr>\n",
       "      <th>3</th>\n",
       "      <td>590.390015</td>\n",
       "    </tr>\n",
       "    <tr>\n",
       "      <th>4</th>\n",
       "      <td>582.119995</td>\n",
       "    </tr>\n",
       "    <tr>\n",
       "      <th>...</th>\n",
       "      <td>...</td>\n",
       "    </tr>\n",
       "    <tr>\n",
       "      <th>254</th>\n",
       "      <td>493.940002</td>\n",
       "    </tr>\n",
       "    <tr>\n",
       "      <th>255</th>\n",
       "      <td>496.899994</td>\n",
       "    </tr>\n",
       "    <tr>\n",
       "      <th>256</th>\n",
       "      <td>496.029999</td>\n",
       "    </tr>\n",
       "    <tr>\n",
       "      <th>257</th>\n",
       "      <td>505.579987</td>\n",
       "    </tr>\n",
       "    <tr>\n",
       "      <th>258</th>\n",
       "      <td>506.350006</td>\n",
       "    </tr>\n",
       "  </tbody>\n",
       "</table>\n",
       "<p>259 rows × 1 columns</p>\n",
       "</div>"
      ],
      "text/plain": [
       "          Close\n",
       "0    584.669983\n",
       "1    581.359985\n",
       "2    591.090027\n",
       "3    590.390015\n",
       "4    582.119995\n",
       "..          ...\n",
       "254  493.940002\n",
       "255  496.899994\n",
       "256  496.029999\n",
       "257  505.579987\n",
       "258  506.350006\n",
       "\n",
       "[259 rows x 1 columns]"
      ]
     },
     "execution_count": 6,
     "metadata": {},
     "output_type": "execute_result"
    }
   ],
   "source": [
    "costco"
   ]
  },
  {
   "cell_type": "code",
   "execution_count": 7,
   "id": "3ddeb865",
   "metadata": {},
   "outputs": [
    {
     "data": {
      "text/plain": [
       "(259, 1)"
      ]
     },
     "execution_count": 7,
     "metadata": {},
     "output_type": "execute_result"
    }
   ],
   "source": [
    "costco.shape"
   ]
  },
  {
   "cell_type": "code",
   "execution_count": 8,
   "id": "7db26116",
   "metadata": {},
   "outputs": [
    {
     "data": {
      "image/png": "[encoded data removed]",
      "text/plain": [
       "<Figure size 432x288 with 1 Axes>"
      ]
     },
     "metadata": {
      "needs_background": "light"
     },
     "output_type": "display_data"
    }
   ],
   "source": [
    "#Plot temp\n",
    "plt.plot(costco['Close'])\n",
    "plt.show()"
   ]
  },
  {
   "cell_type": "markdown",
   "id": "d735f6e8",
   "metadata": {},
   "source": [
    "## STEP 3:  Data Cleanup"
   ]
  },
  {
   "cell_type": "code",
   "execution_count": 9,
   "id": "7087de0b",
   "metadata": {},
   "outputs": [
    {
     "data": {
      "text/plain": [
       "0"
      ]
     },
     "execution_count": 9,
     "metadata": {},
     "output_type": "execute_result"
    }
   ],
   "source": [
    "costco['Close'].isna().sum() #checking for null vlaues"
   ]
  },
  {
   "cell_type": "code",
   "execution_count": 10,
   "id": "da566269",
   "metadata": {},
   "outputs": [],
   "source": [
    "# Remove all null values\n",
    "\n",
    "costco = costco.dropna().reset_index(drop=True)"
   ]
  },
  {
   "cell_type": "code",
   "execution_count": 11,
   "id": "f7b789d4",
   "metadata": {},
   "outputs": [
    {
     "data": {
      "text/plain": [
       "259"
      ]
     },
     "execution_count": 11,
     "metadata": {},
     "output_type": "execute_result"
    }
   ],
   "source": [
    "row_count = costco.shape[0] # store the number of obersvations \n",
    "row_count"
   ]
  },
  {
   "cell_type": "code",
   "execution_count": 12,
   "id": "dc79125b",
   "metadata": {},
   "outputs": [
    {
     "data": {
      "text/plain": [
       "(259, 1)"
      ]
     },
     "execution_count": 12,
     "metadata": {},
     "output_type": "execute_result"
    }
   ],
   "source": [
    "# to make things easier, we create a numpy array from our dataframe of prices\n",
    "costco = costco.to_numpy() \n",
    "costco.shape"
   ]
  },
  {
   "cell_type": "code",
   "execution_count": 13,
   "id": "4aecb818",
   "metadata": {},
   "outputs": [],
   "source": [
    "sequence_length = 10  # here, lets create a variable to hold the number of days that will be in a sequence. This makes it easier to change later."
   ]
  },
  {
   "cell_type": "code",
   "execution_count": 14,
   "id": "d3d2f453",
   "metadata": {},
   "outputs": [
    {
     "data": {
      "text/plain": [
       "(250, 1)"
      ]
     },
     "execution_count": 14,
     "metadata": {},
     "output_type": "execute_result"
    }
   ],
   "source": [
    "costco = costco[row_count % sequence_length: ] # Since our data may not be a multiple of sequence_length, we will ignore \n",
    "# the first number of days in order to make the total a number divisible by sequence length\n",
    "costco.shape"
   ]
  },
  {
   "cell_type": "code",
   "execution_count": 15,
   "id": "c447d47c",
   "metadata": {},
   "outputs": [
    {
     "data": {
      "text/plain": [
       "array([[568.210022, 553.76001 , 554.080017, 562.      , 531.719971,\n",
       "        528.950012, 528.080017, 544.429993, 517.320007, 503.359985],\n",
       "       [498.829987, 501.459991, 489.079987, 486.179993, 497.269989,\n",
       "        494.529999, 490.470001, 429.399994, 422.929993, 416.429993],\n",
       "       [429.480011, 437.709991, 440.109985, 464.98999 , 470.76001 ,\n",
       "        466.220001, 456.98999 , 487.609985, 476.25    , 472.470001],\n",
       "       [471.779999, 467.98999 , 472.049988, 463.309998, 452.25    ,\n",
       "        454.799988, 458.790009, 451.76001 , 446.690002, 463.109985],\n",
       "       [459.959991, 475.      , 484.369995, 481.75    , 468.609985,\n",
       "        469.839996, 479.279999, 485.76001 , 488.26001 , 492.649994],\n",
       "       [494.950012, 501.540009, 498.899994, 490.570007, 492.220001,\n",
       "        511.940002, 522.950012, 516.299988, 520.22998 , 524.200012],\n",
       "       [529.460022, 529.719971, 529.140015, 511.929993, 522.309998,\n",
       "        536.179993, 541.299988, 546.809998, 543.460022, 547.01001 ],\n",
       "       [543.280029, 540.669983, 541.900024, 535.820007, 539.820007,\n",
       "        532.200012, 537.210022, 545.75    , 553.02002 , 556.320007],\n",
       "       [560.960022, 554.530029, 545.469971, 542.070007, 543.219971,\n",
       "        550.77002 , 531.820007, 531.059998, 524.140015, 522.099976],\n",
       "       [529.169983, 519.109985, 518.900024, 529.640015, 529.119995,\n",
       "        536.580017, 539.52002 , 510.299988, 508.      , 503.5     ],\n",
       "       [504.140015, 506.570007, 499.519989, 493.070007, 487.170013,\n",
       "        466.399994, 480.299988, 478.299988, 488.290009, 478.980011],\n",
       "       [472.269989, 477.730011, 486.130005, 480.320007, 482.48999 ,\n",
       "        468.149994, 466.309998, 472.019989, 466.380005, 467.98999 ],\n",
       "       [454.649994, 464.170013, 473.269989, 471.429993, 464.619995,\n",
       "        478.179993, 496.970001, 499.059998, 499.450012, 496.540009],\n",
       "       [510.869995, 501.5     , 499.959991, 483.51001 , 486.290009,\n",
       "        486.410004, 488.549988, 492.76001 , 489.970001, 513.130005],\n",
       "       [515.469971, 509.679993, 526.469971, 524.109985, 521.320007,\n",
       "        523.669983, 523.369995, 531.950012, 534.48999 , 533.659973],\n",
       "       [530.919983, 528.960022, 539.25    , 503.859985, 494.529999,\n",
       "        488.660004, 481.160004, 481.970001, 481.420013, 483.019989],\n",
       "       [487.679993, 488.200012, 483.519989, 463.910004, 461.450012,\n",
       "        458.630005, 457.820007, 462.059998, 458.709991, 462.649994],\n",
       "       [458.5     , 452.98999 , 456.529999, 456.5     , 453.279999,\n",
       "        456.559998, 450.190002, 482.869995, 478.75    , 481.399994],\n",
       "       [484.309998, 482.429993, 485.25    , 486.769989, 479.470001,\n",
       "        469.48999 , 480.109985, 492.609985, 492.109985, 490.880005],\n",
       "       [498.299988, 503.290009, 503.279999, 511.140015, 517.909973,\n",
       "        523.429993, 514.799988, 515.590027, 516.530029, 503.809998],\n",
       "       [500.630005, 499.98999 , 506.450012, 503.220001, 511.279999,\n",
       "        504.100006, 507.480011, 501.73999 , 497.390015, 493.140015],\n",
       "       [488.609985, 487.029999, 484.179993, 478.670013, 485.690002,\n",
       "        475.26001 , 483.079987, 485.149994, 486.040009, 479.519989],\n",
       "       [471.140015, 472.      , 481.920013, 485.660004, 487.26001 ,\n",
       "        487.049988, 489.290009, 490.850006, 487.519989, 487.76001 ],\n",
       "       [495.269989, 493.220001, 486.769989, 490.869995, 491.480011,\n",
       "        496.869995, 497.029999, 497.730011, 497.130005, 485.980011],\n",
       "       [493.829987, 498.649994, 489.350006, 497.890015, 491.299988,\n",
       "        493.940002, 496.899994, 496.029999, 505.579987, 506.350006]])"
      ]
     },
     "execution_count": 15,
     "metadata": {},
     "output_type": "execute_result"
    }
   ],
   "source": [
    "costco = costco.reshape(row_count // sequence_length, sequence_length) # note that temps are a multiple of sequence length, we can split the data into rows of sequence length.\n",
    "costco"
   ]
  },
  {
   "cell_type": "code",
   "execution_count": 16,
   "id": "526d0590",
   "metadata": {},
   "outputs": [
    {
     "data": {
      "text/html": [
       "<div>\n",
       "<style scoped>\n",
       "    .dataframe tbody tr th:only-of-type {\n",
       "        vertical-align: middle;\n",
       "    }\n",
       "\n",
       "    .dataframe tbody tr th {\n",
       "        vertical-align: top;\n",
       "    }\n",
       "\n",
       "    .dataframe thead th {\n",
       "        text-align: right;\n",
       "    }\n",
       "</style>\n",
       "<table border=\"1\" class=\"dataframe\">\n",
       "  <thead>\n",
       "    <tr style=\"text-align: right;\">\n",
       "      <th></th>\n",
       "      <th>0</th>\n",
       "      <th>1</th>\n",
       "      <th>2</th>\n",
       "      <th>3</th>\n",
       "      <th>4</th>\n",
       "      <th>5</th>\n",
       "      <th>6</th>\n",
       "      <th>7</th>\n",
       "      <th>8</th>\n",
       "      <th>9</th>\n",
       "    </tr>\n",
       "  </thead>\n",
       "  <tbody>\n",
       "    <tr>\n",
       "      <th>0</th>\n",
       "      <td>568.210022</td>\n",
       "      <td>553.760010</td>\n",
       "      <td>554.080017</td>\n",
       "      <td>562.000000</td>\n",
       "      <td>531.719971</td>\n",
       "      <td>528.950012</td>\n",
       "      <td>528.080017</td>\n",
       "      <td>544.429993</td>\n",
       "      <td>517.320007</td>\n",
       "      <td>503.359985</td>\n",
       "    </tr>\n",
       "    <tr>\n",
       "      <th>1</th>\n",
       "      <td>498.829987</td>\n",
       "      <td>501.459991</td>\n",
       "      <td>489.079987</td>\n",
       "      <td>486.179993</td>\n",
       "      <td>497.269989</td>\n",
       "      <td>494.529999</td>\n",
       "      <td>490.470001</td>\n",
       "      <td>429.399994</td>\n",
       "      <td>422.929993</td>\n",
       "      <td>416.429993</td>\n",
       "    </tr>\n",
       "    <tr>\n",
       "      <th>2</th>\n",
       "      <td>429.480011</td>\n",
       "      <td>437.709991</td>\n",
       "      <td>440.109985</td>\n",
       "      <td>464.989990</td>\n",
       "      <td>470.760010</td>\n",
       "      <td>466.220001</td>\n",
       "      <td>456.989990</td>\n",
       "      <td>487.609985</td>\n",
       "      <td>476.250000</td>\n",
       "      <td>472.470001</td>\n",
       "    </tr>\n",
       "    <tr>\n",
       "      <th>3</th>\n",
       "      <td>471.779999</td>\n",
       "      <td>467.989990</td>\n",
       "      <td>472.049988</td>\n",
       "      <td>463.309998</td>\n",
       "      <td>452.250000</td>\n",
       "      <td>454.799988</td>\n",
       "      <td>458.790009</td>\n",
       "      <td>451.760010</td>\n",
       "      <td>446.690002</td>\n",
       "      <td>463.109985</td>\n",
       "    </tr>\n",
       "    <tr>\n",
       "      <th>4</th>\n",
       "      <td>459.959991</td>\n",
       "      <td>475.000000</td>\n",
       "      <td>484.369995</td>\n",
       "      <td>481.750000</td>\n",
       "      <td>468.609985</td>\n",
       "      <td>469.839996</td>\n",
       "      <td>479.279999</td>\n",
       "      <td>485.760010</td>\n",
       "      <td>488.260010</td>\n",
       "      <td>492.649994</td>\n",
       "    </tr>\n",
       "    <tr>\n",
       "      <th>5</th>\n",
       "      <td>494.950012</td>\n",
       "      <td>501.540009</td>\n",
       "      <td>498.899994</td>\n",
       "      <td>490.570007</td>\n",
       "      <td>492.220001</td>\n",
       "      <td>511.940002</td>\n",
       "      <td>522.950012</td>\n",
       "      <td>516.299988</td>\n",
       "      <td>520.229980</td>\n",
       "      <td>524.200012</td>\n",
       "    </tr>\n",
       "    <tr>\n",
       "      <th>6</th>\n",
       "      <td>529.460022</td>\n",
       "      <td>529.719971</td>\n",
       "      <td>529.140015</td>\n",
       "      <td>511.929993</td>\n",
       "      <td>522.309998</td>\n",
       "      <td>536.179993</td>\n",
       "      <td>541.299988</td>\n",
       "      <td>546.809998</td>\n",
       "      <td>543.460022</td>\n",
       "      <td>547.010010</td>\n",
       "    </tr>\n",
       "    <tr>\n",
       "      <th>7</th>\n",
       "      <td>543.280029</td>\n",
       "      <td>540.669983</td>\n",
       "      <td>541.900024</td>\n",
       "      <td>535.820007</td>\n",
       "      <td>539.820007</td>\n",
       "      <td>532.200012</td>\n",
       "      <td>537.210022</td>\n",
       "      <td>545.750000</td>\n",
       "      <td>553.020020</td>\n",
       "      <td>556.320007</td>\n",
       "    </tr>\n",
       "    <tr>\n",
       "      <th>8</th>\n",
       "      <td>560.960022</td>\n",
       "      <td>554.530029</td>\n",
       "      <td>545.469971</td>\n",
       "      <td>542.070007</td>\n",
       "      <td>543.219971</td>\n",
       "      <td>550.770020</td>\n",
       "      <td>531.820007</td>\n",
       "      <td>531.059998</td>\n",
       "      <td>524.140015</td>\n",
       "      <td>522.099976</td>\n",
       "    </tr>\n",
       "    <tr>\n",
       "      <th>9</th>\n",
       "      <td>529.169983</td>\n",
       "      <td>519.109985</td>\n",
       "      <td>518.900024</td>\n",
       "      <td>529.640015</td>\n",
       "      <td>529.119995</td>\n",
       "      <td>536.580017</td>\n",
       "      <td>539.520020</td>\n",
       "      <td>510.299988</td>\n",
       "      <td>508.000000</td>\n",
       "      <td>503.500000</td>\n",
       "    </tr>\n",
       "    <tr>\n",
       "      <th>10</th>\n",
       "      <td>504.140015</td>\n",
       "      <td>506.570007</td>\n",
       "      <td>499.519989</td>\n",
       "      <td>493.070007</td>\n",
       "      <td>487.170013</td>\n",
       "      <td>466.399994</td>\n",
       "      <td>480.299988</td>\n",
       "      <td>478.299988</td>\n",
       "      <td>488.290009</td>\n",
       "      <td>478.980011</td>\n",
       "    </tr>\n",
       "    <tr>\n",
       "      <th>11</th>\n",
       "      <td>472.269989</td>\n",
       "      <td>477.730011</td>\n",
       "      <td>486.130005</td>\n",
       "      <td>480.320007</td>\n",
       "      <td>482.489990</td>\n",
       "      <td>468.149994</td>\n",
       "      <td>466.309998</td>\n",
       "      <td>472.019989</td>\n",
       "      <td>466.380005</td>\n",
       "      <td>467.989990</td>\n",
       "    </tr>\n",
       "    <tr>\n",
       "      <th>12</th>\n",
       "      <td>454.649994</td>\n",
       "      <td>464.170013</td>\n",
       "      <td>473.269989</td>\n",
       "      <td>471.429993</td>\n",
       "      <td>464.619995</td>\n",
       "      <td>478.179993</td>\n",
       "      <td>496.970001</td>\n",
       "      <td>499.059998</td>\n",
       "      <td>499.450012</td>\n",
       "      <td>496.540009</td>\n",
       "    </tr>\n",
       "    <tr>\n",
       "      <th>13</th>\n",
       "      <td>510.869995</td>\n",
       "      <td>501.500000</td>\n",
       "      <td>499.959991</td>\n",
       "      <td>483.510010</td>\n",
       "      <td>486.290009</td>\n",
       "      <td>486.410004</td>\n",
       "      <td>488.549988</td>\n",
       "      <td>492.760010</td>\n",
       "      <td>489.970001</td>\n",
       "      <td>513.130005</td>\n",
       "    </tr>\n",
       "    <tr>\n",
       "      <th>14</th>\n",
       "      <td>515.469971</td>\n",
       "      <td>509.679993</td>\n",
       "      <td>526.469971</td>\n",
       "      <td>524.109985</td>\n",
       "      <td>521.320007</td>\n",
       "      <td>523.669983</td>\n",
       "      <td>523.369995</td>\n",
       "      <td>531.950012</td>\n",
       "      <td>534.489990</td>\n",
       "      <td>533.659973</td>\n",
       "    </tr>\n",
       "    <tr>\n",
       "      <th>15</th>\n",
       "      <td>530.919983</td>\n",
       "      <td>528.960022</td>\n",
       "      <td>539.250000</td>\n",
       "      <td>503.859985</td>\n",
       "      <td>494.529999</td>\n",
       "      <td>488.660004</td>\n",
       "      <td>481.160004</td>\n",
       "      <td>481.970001</td>\n",
       "      <td>481.420013</td>\n",
       "      <td>483.019989</td>\n",
       "    </tr>\n",
       "    <tr>\n",
       "      <th>16</th>\n",
       "      <td>487.679993</td>\n",
       "      <td>488.200012</td>\n",
       "      <td>483.519989</td>\n",
       "      <td>463.910004</td>\n",
       "      <td>461.450012</td>\n",
       "      <td>458.630005</td>\n",
       "      <td>457.820007</td>\n",
       "      <td>462.059998</td>\n",
       "      <td>458.709991</td>\n",
       "      <td>462.649994</td>\n",
       "    </tr>\n",
       "    <tr>\n",
       "      <th>17</th>\n",
       "      <td>458.500000</td>\n",
       "      <td>452.989990</td>\n",
       "      <td>456.529999</td>\n",
       "      <td>456.500000</td>\n",
       "      <td>453.279999</td>\n",
       "      <td>456.559998</td>\n",
       "      <td>450.190002</td>\n",
       "      <td>482.869995</td>\n",
       "      <td>478.750000</td>\n",
       "      <td>481.399994</td>\n",
       "    </tr>\n",
       "    <tr>\n",
       "      <th>18</th>\n",
       "      <td>484.309998</td>\n",
       "      <td>482.429993</td>\n",
       "      <td>485.250000</td>\n",
       "      <td>486.769989</td>\n",
       "      <td>479.470001</td>\n",
       "      <td>469.489990</td>\n",
       "      <td>480.109985</td>\n",
       "      <td>492.609985</td>\n",
       "      <td>492.109985</td>\n",
       "      <td>490.880005</td>\n",
       "    </tr>\n",
       "    <tr>\n",
       "      <th>19</th>\n",
       "      <td>498.299988</td>\n",
       "      <td>503.290009</td>\n",
       "      <td>503.279999</td>\n",
       "      <td>511.140015</td>\n",
       "      <td>517.909973</td>\n",
       "      <td>523.429993</td>\n",
       "      <td>514.799988</td>\n",
       "      <td>515.590027</td>\n",
       "      <td>516.530029</td>\n",
       "      <td>503.809998</td>\n",
       "    </tr>\n",
       "    <tr>\n",
       "      <th>20</th>\n",
       "      <td>500.630005</td>\n",
       "      <td>499.989990</td>\n",
       "      <td>506.450012</td>\n",
       "      <td>503.220001</td>\n",
       "      <td>511.279999</td>\n",
       "      <td>504.100006</td>\n",
       "      <td>507.480011</td>\n",
       "      <td>501.739990</td>\n",
       "      <td>497.390015</td>\n",
       "      <td>493.140015</td>\n",
       "    </tr>\n",
       "    <tr>\n",
       "      <th>21</th>\n",
       "      <td>488.609985</td>\n",
       "      <td>487.029999</td>\n",
       "      <td>484.179993</td>\n",
       "      <td>478.670013</td>\n",
       "      <td>485.690002</td>\n",
       "      <td>475.260010</td>\n",
       "      <td>483.079987</td>\n",
       "      <td>485.149994</td>\n",
       "      <td>486.040009</td>\n",
       "      <td>479.519989</td>\n",
       "    </tr>\n",
       "    <tr>\n",
       "      <th>22</th>\n",
       "      <td>471.140015</td>\n",
       "      <td>472.000000</td>\n",
       "      <td>481.920013</td>\n",
       "      <td>485.660004</td>\n",
       "      <td>487.260010</td>\n",
       "      <td>487.049988</td>\n",
       "      <td>489.290009</td>\n",
       "      <td>490.850006</td>\n",
       "      <td>487.519989</td>\n",
       "      <td>487.760010</td>\n",
       "    </tr>\n",
       "    <tr>\n",
       "      <th>23</th>\n",
       "      <td>495.269989</td>\n",
       "      <td>493.220001</td>\n",
       "      <td>486.769989</td>\n",
       "      <td>490.869995</td>\n",
       "      <td>491.480011</td>\n",
       "      <td>496.869995</td>\n",
       "      <td>497.029999</td>\n",
       "      <td>497.730011</td>\n",
       "      <td>497.130005</td>\n",
       "      <td>485.980011</td>\n",
       "    </tr>\n",
       "    <tr>\n",
       "      <th>24</th>\n",
       "      <td>493.829987</td>\n",
       "      <td>498.649994</td>\n",
       "      <td>489.350006</td>\n",
       "      <td>497.890015</td>\n",
       "      <td>491.299988</td>\n",
       "      <td>493.940002</td>\n",
       "      <td>496.899994</td>\n",
       "      <td>496.029999</td>\n",
       "      <td>505.579987</td>\n",
       "      <td>506.350006</td>\n",
       "    </tr>\n",
       "  </tbody>\n",
       "</table>\n",
       "</div>"
      ],
      "text/plain": [
       "             0           1           2           3           4           5  \\\n",
       "0   568.210022  553.760010  554.080017  562.000000  531.719971  528.950012   \n",
       "1   498.829987  501.459991  489.079987  486.179993  497.269989  494.529999   \n",
       "2   429.480011  437.709991  440.109985  464.989990  470.760010  466.220001   \n",
       "3   471.779999  467.989990  472.049988  463.309998  452.250000  454.799988   \n",
       "4   459.959991  475.000000  484.369995  481.750000  468.609985  469.839996   \n",
       "5   494.950012  501.540009  498.899994  490.570007  492.220001  511.940002   \n",
       "6   529.460022  529.719971  529.140015  511.929993  522.309998  536.179993   \n",
       "7   543.280029  540.669983  541.900024  535.820007  539.820007  532.200012   \n",
       "8   560.960022  554.530029  545.469971  542.070007  543.219971  550.770020   \n",
       "9   529.169983  519.109985  518.900024  529.640015  529.119995  536.580017   \n",
       "10  504.140015  506.570007  499.519989  493.070007  487.170013  466.399994   \n",
       "11  472.269989  477.730011  486.130005  480.320007  482.489990  468.149994   \n",
       "12  454.649994  464.170013  473.269989  471.429993  464.619995  478.179993   \n",
       "13  510.869995  501.500000  499.959991  483.510010  486.290009  486.410004   \n",
       "14  515.469971  509.679993  526.469971  524.109985  521.320007  523.669983   \n",
       "15  530.919983  528.960022  539.250000  503.859985  494.529999  488.660004   \n",
       "16  487.679993  488.200012  483.519989  463.910004  461.450012  458.630005   \n",
       "17  458.500000  452.989990  456.529999  456.500000  453.279999  456.559998   \n",
       "18  484.309998  482.429993  485.250000  486.769989  479.470001  469.489990   \n",
       "19  498.299988  503.290009  503.279999  511.140015  517.909973  523.429993   \n",
       "20  500.630005  499.989990  506.450012  503.220001  511.279999  504.100006   \n",
       "21  488.609985  487.029999  484.179993  478.670013  485.690002  475.260010   \n",
       "22  471.140015  472.000000  481.920013  485.660004  487.260010  487.049988   \n",
       "23  495.269989  493.220001  486.769989  490.869995  491.480011  496.869995   \n",
       "24  493.829987  498.649994  489.350006  497.890015  491.299988  493.940002   \n",
       "\n",
       "             6           7           8           9  \n",
       "0   528.080017  544.429993  517.320007  503.359985  \n",
       "1   490.470001  429.399994  422.929993  416.429993  \n",
       "2   456.989990  487.609985  476.250000  472.470001  \n",
       "3   458.790009  451.760010  446.690002  463.109985  \n",
       "4   479.279999  485.760010  488.260010  492.649994  \n",
       "5   522.950012  516.299988  520.229980  524.200012  \n",
       "6   541.299988  546.809998  543.460022  547.010010  \n",
       "7   537.210022  545.750000  553.020020  556.320007  \n",
       "8   531.820007  531.059998  524.140015  522.099976  \n",
       "9   539.520020  510.299988  508.000000  503.500000  \n",
       "10  480.299988  478.299988  488.290009  478.980011  \n",
       "11  466.309998  472.019989  466.380005  467.989990  \n",
       "12  496.970001  499.059998  499.450012  496.540009  \n",
       "13  488.549988  492.760010  489.970001  513.130005  \n",
       "14  523.369995  531.950012  534.489990  533.659973  \n",
       "15  481.160004  481.970001  481.420013  483.019989  \n",
       "16  457.820007  462.059998  458.709991  462.649994  \n",
       "17  450.190002  482.869995  478.750000  481.399994  \n",
       "18  480.109985  492.609985  492.109985  490.880005  \n",
       "19  514.799988  515.590027  516.530029  503.809998  \n",
       "20  507.480011  501.739990  497.390015  493.140015  \n",
       "21  483.079987  485.149994  486.040009  479.519989  \n",
       "22  489.290009  490.850006  487.519989  487.760010  \n",
       "23  497.029999  497.730011  497.130005  485.980011  \n",
       "24  496.899994  496.029999  505.579987  506.350006  "
      ]
     },
     "execution_count": 16,
     "metadata": {},
     "output_type": "execute_result"
    }
   ],
   "source": [
    "# Convert to dataframe\n",
    "\n",
    "costco_df = pd.DataFrame(costco, columns=np.arange(0,10,1))\n",
    "costco_df"
   ]
  },
  {
   "cell_type": "markdown",
   "id": "6e475f83",
   "metadata": {},
   "source": [
    "## STEP 4:  Reshape for Standardizing Data"
   ]
  },
  {
   "cell_type": "code",
   "execution_count": 17,
   "id": "fe9d29a6",
   "metadata": {},
   "outputs": [
    {
     "data": {
      "text/plain": [
       "(250, 1)"
      ]
     },
     "execution_count": 17,
     "metadata": {},
     "output_type": "execute_result"
    }
   ],
   "source": [
    "# Let's create a single sequence (i.e., feature) for standardization\n",
    "\n",
    "COSTCO = np.array(costco_df).ravel().reshape(-1,1)\n",
    "\n",
    "COSTCO.shape"
   ]
  },
  {
   "cell_type": "code",
   "execution_count": 18,
   "id": "eaf2407f",
   "metadata": {},
   "outputs": [
    {
     "data": {
      "text/plain": [
       "array([[568.210022],\n",
       "       [553.76001 ],\n",
       "       [554.080017],\n",
       "       [562.      ],\n",
       "       [531.719971],\n",
       "       [528.950012],\n",
       "       [528.080017],\n",
       "       [544.429993],\n",
       "       [517.320007],\n",
       "       [503.359985],\n",
       "       [498.829987],\n",
       "       [501.459991],\n",
       "       [489.079987],\n",
       "       [486.179993],\n",
       "       [497.269989],\n",
       "       [494.529999],\n",
       "       [490.470001],\n",
       "       [429.399994],\n",
       "       [422.929993],\n",
       "       [416.429993],\n",
       "       [429.480011],\n",
       "       [437.709991],\n",
       "       [440.109985],\n",
       "       [464.98999 ],\n",
       "       [470.76001 ],\n",
       "       [466.220001],\n",
       "       [456.98999 ],\n",
       "       [487.609985],\n",
       "       [476.25    ],\n",
       "       [472.470001],\n",
       "       [471.779999],\n",
       "       [467.98999 ],\n",
       "       [472.049988],\n",
       "       [463.309998],\n",
       "       [452.25    ],\n",
       "       [454.799988],\n",
       "       [458.790009],\n",
       "       [451.76001 ],\n",
       "       [446.690002],\n",
       "       [463.109985],\n",
       "       [459.959991],\n",
       "       [475.      ],\n",
       "       [484.369995],\n",
       "       [481.75    ],\n",
       "       [468.609985],\n",
       "       [469.839996],\n",
       "       [479.279999],\n",
       "       [485.76001 ],\n",
       "       [488.26001 ],\n",
       "       [492.649994],\n",
       "       [494.950012],\n",
       "       [501.540009],\n",
       "       [498.899994],\n",
       "       [490.570007],\n",
       "       [492.220001],\n",
       "       [511.940002],\n",
       "       [522.950012],\n",
       "       [516.299988],\n",
       "       [520.22998 ],\n",
       "       [524.200012],\n",
       "       [529.460022],\n",
       "       [529.719971],\n",
       "       [529.140015],\n",
       "       [511.929993],\n",
       "       [522.309998],\n",
       "       [536.179993],\n",
       "       [541.299988],\n",
       "       [546.809998],\n",
       "       [543.460022],\n",
       "       [547.01001 ],\n",
       "       [543.280029],\n",
       "       [540.669983],\n",
       "       [541.900024],\n",
       "       [535.820007],\n",
       "       [539.820007],\n",
       "       [532.200012],\n",
       "       [537.210022],\n",
       "       [545.75    ],\n",
       "       [553.02002 ],\n",
       "       [556.320007],\n",
       "       [560.960022],\n",
       "       [554.530029],\n",
       "       [545.469971],\n",
       "       [542.070007],\n",
       "       [543.219971],\n",
       "       [550.77002 ],\n",
       "       [531.820007],\n",
       "       [531.059998],\n",
       "       [524.140015],\n",
       "       [522.099976],\n",
       "       [529.169983],\n",
       "       [519.109985],\n",
       "       [518.900024],\n",
       "       [529.640015],\n",
       "       [529.119995],\n",
       "       [536.580017],\n",
       "       [539.52002 ],\n",
       "       [510.299988],\n",
       "       [508.      ],\n",
       "       [503.5     ],\n",
       "       [504.140015],\n",
       "       [506.570007],\n",
       "       [499.519989],\n",
       "       [493.070007],\n",
       "       [487.170013],\n",
       "       [466.399994],\n",
       "       [480.299988],\n",
       "       [478.299988],\n",
       "       [488.290009],\n",
       "       [478.980011],\n",
       "       [472.269989],\n",
       "       [477.730011],\n",
       "       [486.130005],\n",
       "       [480.320007],\n",
       "       [482.48999 ],\n",
       "       [468.149994],\n",
       "       [466.309998],\n",
       "       [472.019989],\n",
       "       [466.380005],\n",
       "       [467.98999 ],\n",
       "       [454.649994],\n",
       "       [464.170013],\n",
       "       [473.269989],\n",
       "       [471.429993],\n",
       "       [464.619995],\n",
       "       [478.179993],\n",
       "       [496.970001],\n",
       "       [499.059998],\n",
       "       [499.450012],\n",
       "       [496.540009],\n",
       "       [510.869995],\n",
       "       [501.5     ],\n",
       "       [499.959991],\n",
       "       [483.51001 ],\n",
       "       [486.290009],\n",
       "       [486.410004],\n",
       "       [488.549988],\n",
       "       [492.76001 ],\n",
       "       [489.970001],\n",
       "       [513.130005],\n",
       "       [515.469971],\n",
       "       [509.679993],\n",
       "       [526.469971],\n",
       "       [524.109985],\n",
       "       [521.320007],\n",
       "       [523.669983],\n",
       "       [523.369995],\n",
       "       [531.950012],\n",
       "       [534.48999 ],\n",
       "       [533.659973],\n",
       "       [530.919983],\n",
       "       [528.960022],\n",
       "       [539.25    ],\n",
       "       [503.859985],\n",
       "       [494.529999],\n",
       "       [488.660004],\n",
       "       [481.160004],\n",
       "       [481.970001],\n",
       "       [481.420013],\n",
       "       [483.019989],\n",
       "       [487.679993],\n",
       "       [488.200012],\n",
       "       [483.519989],\n",
       "       [463.910004],\n",
       "       [461.450012],\n",
       "       [458.630005],\n",
       "       [457.820007],\n",
       "       [462.059998],\n",
       "       [458.709991],\n",
       "       [462.649994],\n",
       "       [458.5     ],\n",
       "       [452.98999 ],\n",
       "       [456.529999],\n",
       "       [456.5     ],\n",
       "       [453.279999],\n",
       "       [456.559998],\n",
       "       [450.190002],\n",
       "       [482.869995],\n",
       "       [478.75    ],\n",
       "       [481.399994],\n",
       "       [484.309998],\n",
       "       [482.429993],\n",
       "       [485.25    ],\n",
       "       [486.769989],\n",
       "       [479.470001],\n",
       "       [469.48999 ],\n",
       "       [480.109985],\n",
       "       [492.609985],\n",
       "       [492.109985],\n",
       "       [490.880005],\n",
       "       [498.299988],\n",
       "       [503.290009],\n",
       "       [503.279999],\n",
       "       [511.140015],\n",
       "       [517.909973],\n",
       "       [523.429993],\n",
       "       [514.799988],\n",
       "       [515.590027],\n",
       "       [516.530029],\n",
       "       [503.809998],\n",
       "       [500.630005],\n",
       "       [499.98999 ],\n",
       "       [506.450012],\n",
       "       [503.220001],\n",
       "       [511.279999],\n",
       "       [504.100006],\n",
       "       [507.480011],\n",
       "       [501.73999 ],\n",
       "       [497.390015],\n",
       "       [493.140015],\n",
       "       [488.609985],\n",
       "       [487.029999],\n",
       "       [484.179993],\n",
       "       [478.670013],\n",
       "       [485.690002],\n",
       "       [475.26001 ],\n",
       "       [483.079987],\n",
       "       [485.149994],\n",
       "       [486.040009],\n",
       "       [479.519989],\n",
       "       [471.140015],\n",
       "       [472.      ],\n",
       "       [481.920013],\n",
       "       [485.660004],\n",
       "       [487.26001 ],\n",
       "       [487.049988],\n",
       "       [489.290009],\n",
       "       [490.850006],\n",
       "       [487.519989],\n",
       "       [487.76001 ],\n",
       "       [495.269989],\n",
       "       [493.220001],\n",
       "       [486.769989],\n",
       "       [490.869995],\n",
       "       [491.480011],\n",
       "       [496.869995],\n",
       "       [497.029999],\n",
       "       [497.730011],\n",
       "       [497.130005],\n",
       "       [485.980011],\n",
       "       [493.829987],\n",
       "       [498.649994],\n",
       "       [489.350006],\n",
       "       [497.890015],\n",
       "       [491.299988],\n",
       "       [493.940002],\n",
       "       [496.899994],\n",
       "       [496.029999],\n",
       "       [505.579987],\n",
       "       [506.350006]])"
      ]
     },
     "execution_count": 18,
     "metadata": {},
     "output_type": "execute_result"
    }
   ],
   "source": [
    "COSTCO"
   ]
  },
  {
   "cell_type": "markdown",
   "id": "2a72f792",
   "metadata": {},
   "source": [
    "## STEP 5: Standardize the values"
   ]
  },
  {
   "cell_type": "code",
   "execution_count": 19,
   "id": "b2e7167b",
   "metadata": {},
   "outputs": [],
   "source": [
    "# using StandardScaler to standardize\n",
    "\n",
    "from sklearn.preprocessing import StandardScaler\n",
    "\n",
    "scaler = StandardScaler()\n",
    "\n",
    "new_std = scaler.fit_transform(COSTCO)"
   ]
  },
  {
   "cell_type": "markdown",
   "id": "028be056",
   "metadata": {},
   "source": [
    "## STEP 6: Reshape the data back to 10-day format"
   ]
  },
  {
   "cell_type": "code",
   "execution_count": 20,
   "id": "cf28f07e",
   "metadata": {},
   "outputs": [
    {
     "data": {
      "text/plain": [
       "(25, 10)"
      ]
     },
     "execution_count": 20,
     "metadata": {},
     "output_type": "execute_result"
    }
   ],
   "source": [
    "#we have 250 rows of data so we can shape them as 25 rows with 10 columns\n",
    "new_reshaped = new_std.reshape(25,10)\n",
    "\n",
    "new_reshaped.shape"
   ]
  },
  {
   "cell_type": "code",
   "execution_count": 21,
   "id": "49f6babd",
   "metadata": {},
   "outputs": [
    {
     "data": {
      "text/html": [
       "<div>\n",
       "<style scoped>\n",
       "    .dataframe tbody tr th:only-of-type {\n",
       "        vertical-align: middle;\n",
       "    }\n",
       "\n",
       "    .dataframe tbody tr th {\n",
       "        vertical-align: top;\n",
       "    }\n",
       "\n",
       "    .dataframe thead th {\n",
       "        text-align: right;\n",
       "    }\n",
       "</style>\n",
       "<table border=\"1\" class=\"dataframe\">\n",
       "  <thead>\n",
       "    <tr style=\"text-align: right;\">\n",
       "      <th></th>\n",
       "      <th>0</th>\n",
       "      <th>1</th>\n",
       "      <th>2</th>\n",
       "      <th>3</th>\n",
       "      <th>4</th>\n",
       "      <th>5</th>\n",
       "      <th>6</th>\n",
       "      <th>7</th>\n",
       "      <th>8</th>\n",
       "      <th>9</th>\n",
       "    </tr>\n",
       "  </thead>\n",
       "  <tbody>\n",
       "    <tr>\n",
       "      <th>0</th>\n",
       "      <td>2.537940</td>\n",
       "      <td>2.028011</td>\n",
       "      <td>2.039303</td>\n",
       "      <td>2.318793</td>\n",
       "      <td>1.250236</td>\n",
       "      <td>1.152486</td>\n",
       "      <td>1.121785</td>\n",
       "      <td>1.698762</td>\n",
       "      <td>0.742073</td>\n",
       "      <td>0.249435</td>\n",
       "    </tr>\n",
       "    <tr>\n",
       "      <th>1</th>\n",
       "      <td>0.089575</td>\n",
       "      <td>0.182386</td>\n",
       "      <td>-0.254495</td>\n",
       "      <td>-0.356833</td>\n",
       "      <td>0.034524</td>\n",
       "      <td>-0.062168</td>\n",
       "      <td>-0.205442</td>\n",
       "      <td>-2.360553</td>\n",
       "      <td>-2.588874</td>\n",
       "      <td>-2.818254</td>\n",
       "    </tr>\n",
       "    <tr>\n",
       "      <th>2</th>\n",
       "      <td>-2.357730</td>\n",
       "      <td>-2.067300</td>\n",
       "      <td>-1.982606</td>\n",
       "      <td>-1.104611</td>\n",
       "      <td>-0.900992</td>\n",
       "      <td>-1.061205</td>\n",
       "      <td>-1.386925</td>\n",
       "      <td>-0.306370</td>\n",
       "      <td>-0.707255</td>\n",
       "      <td>-0.840648</td>\n",
       "    </tr>\n",
       "    <tr>\n",
       "      <th>3</th>\n",
       "      <td>-0.864997</td>\n",
       "      <td>-0.998744</td>\n",
       "      <td>-0.855470</td>\n",
       "      <td>-1.163897</td>\n",
       "      <td>-1.554195</td>\n",
       "      <td>-1.464208</td>\n",
       "      <td>-1.323403</td>\n",
       "      <td>-1.571486</td>\n",
       "      <td>-1.750403</td>\n",
       "      <td>-1.170955</td>\n",
       "    </tr>\n",
       "    <tr>\n",
       "      <th>4</th>\n",
       "      <td>-1.282116</td>\n",
       "      <td>-0.751366</td>\n",
       "      <td>-0.420707</td>\n",
       "      <td>-0.513164</td>\n",
       "      <td>-0.976865</td>\n",
       "      <td>-0.933458</td>\n",
       "      <td>-0.600328</td>\n",
       "      <td>-0.371654</td>\n",
       "      <td>-0.283431</td>\n",
       "      <td>-0.128512</td>\n",
       "    </tr>\n",
       "    <tr>\n",
       "      <th>5</th>\n",
       "      <td>-0.047346</td>\n",
       "      <td>0.185209</td>\n",
       "      <td>0.092045</td>\n",
       "      <td>-0.201913</td>\n",
       "      <td>-0.143686</td>\n",
       "      <td>0.552217</td>\n",
       "      <td>0.940751</td>\n",
       "      <td>0.706077</td>\n",
       "      <td>0.844763</td>\n",
       "      <td>0.984862</td>\n",
       "    </tr>\n",
       "    <tr>\n",
       "      <th>6</th>\n",
       "      <td>1.170484</td>\n",
       "      <td>1.179657</td>\n",
       "      <td>1.159191</td>\n",
       "      <td>0.551863</td>\n",
       "      <td>0.918165</td>\n",
       "      <td>1.407626</td>\n",
       "      <td>1.588307</td>\n",
       "      <td>1.782750</td>\n",
       "      <td>1.664532</td>\n",
       "      <td>1.789809</td>\n",
       "    </tr>\n",
       "    <tr>\n",
       "      <th>7</th>\n",
       "      <td>1.658181</td>\n",
       "      <td>1.566074</td>\n",
       "      <td>1.609481</td>\n",
       "      <td>1.394923</td>\n",
       "      <td>1.536079</td>\n",
       "      <td>1.267176</td>\n",
       "      <td>1.443975</td>\n",
       "      <td>1.745344</td>\n",
       "      <td>2.001897</td>\n",
       "      <td>2.118351</td>\n",
       "    </tr>\n",
       "    <tr>\n",
       "      <th>8</th>\n",
       "      <td>2.282093</td>\n",
       "      <td>2.055184</td>\n",
       "      <td>1.735462</td>\n",
       "      <td>1.615480</td>\n",
       "      <td>1.656061</td>\n",
       "      <td>1.922496</td>\n",
       "      <td>1.253766</td>\n",
       "      <td>1.226946</td>\n",
       "      <td>0.982745</td>\n",
       "      <td>0.910754</td>\n",
       "    </tr>\n",
       "    <tr>\n",
       "      <th>9</th>\n",
       "      <td>1.160249</td>\n",
       "      <td>0.805239</td>\n",
       "      <td>0.797830</td>\n",
       "      <td>1.176836</td>\n",
       "      <td>1.158485</td>\n",
       "      <td>1.421743</td>\n",
       "      <td>1.525493</td>\n",
       "      <td>0.494342</td>\n",
       "      <td>0.413177</td>\n",
       "      <td>0.254376</td>\n",
       "    </tr>\n",
       "    <tr>\n",
       "      <th>10</th>\n",
       "      <td>0.276961</td>\n",
       "      <td>0.362714</td>\n",
       "      <td>0.113924</td>\n",
       "      <td>-0.113690</td>\n",
       "      <td>-0.321896</td>\n",
       "      <td>-1.054853</td>\n",
       "      <td>-0.564334</td>\n",
       "      <td>-0.634912</td>\n",
       "      <td>-0.282372</td>\n",
       "      <td>-0.610915</td>\n",
       "    </tr>\n",
       "    <tr>\n",
       "      <th>11</th>\n",
       "      <td>-0.847706</td>\n",
       "      <td>-0.655026</td>\n",
       "      <td>-0.358597</td>\n",
       "      <td>-0.563627</td>\n",
       "      <td>-0.487050</td>\n",
       "      <td>-0.993097</td>\n",
       "      <td>-1.058029</td>\n",
       "      <td>-0.856528</td>\n",
       "      <td>-1.055559</td>\n",
       "      <td>-0.998744</td>\n",
       "    </tr>\n",
       "    <tr>\n",
       "      <th>12</th>\n",
       "      <td>-1.469501</td>\n",
       "      <td>-1.133548</td>\n",
       "      <td>-0.812417</td>\n",
       "      <td>-0.877349</td>\n",
       "      <td>-1.117668</td>\n",
       "      <td>-0.639147</td>\n",
       "      <td>0.023937</td>\n",
       "      <td>0.097692</td>\n",
       "      <td>0.111455</td>\n",
       "      <td>0.008763</td>\n",
       "    </tr>\n",
       "    <tr>\n",
       "      <th>13</th>\n",
       "      <td>0.514457</td>\n",
       "      <td>0.183797</td>\n",
       "      <td>0.129452</td>\n",
       "      <td>-0.451055</td>\n",
       "      <td>-0.352951</td>\n",
       "      <td>-0.348716</td>\n",
       "      <td>-0.273198</td>\n",
       "      <td>-0.124630</td>\n",
       "      <td>-0.223087</td>\n",
       "      <td>0.594211</td>\n",
       "    </tr>\n",
       "    <tr>\n",
       "      <th>14</th>\n",
       "      <td>0.676786</td>\n",
       "      <td>0.472463</td>\n",
       "      <td>1.064967</td>\n",
       "      <td>0.981685</td>\n",
       "      <td>0.883229</td>\n",
       "      <td>0.966158</td>\n",
       "      <td>0.955572</td>\n",
       "      <td>1.258354</td>\n",
       "      <td>1.347987</td>\n",
       "      <td>1.318697</td>\n",
       "    </tr>\n",
       "    <tr>\n",
       "      <th>15</th>\n",
       "      <td>1.222005</td>\n",
       "      <td>1.152839</td>\n",
       "      <td>1.515964</td>\n",
       "      <td>0.267079</td>\n",
       "      <td>-0.062168</td>\n",
       "      <td>-0.269316</td>\n",
       "      <td>-0.533985</td>\n",
       "      <td>-0.505400</td>\n",
       "      <td>-0.524809</td>\n",
       "      <td>-0.468347</td>\n",
       "    </tr>\n",
       "    <tr>\n",
       "      <th>16</th>\n",
       "      <td>-0.303899</td>\n",
       "      <td>-0.285548</td>\n",
       "      <td>-0.450703</td>\n",
       "      <td>-1.142723</td>\n",
       "      <td>-1.229534</td>\n",
       "      <td>-1.329050</td>\n",
       "      <td>-1.357634</td>\n",
       "      <td>-1.208008</td>\n",
       "      <td>-1.326227</td>\n",
       "      <td>-1.187188</td>\n",
       "    </tr>\n",
       "    <tr>\n",
       "      <th>17</th>\n",
       "      <td>-1.333638</td>\n",
       "      <td>-1.528081</td>\n",
       "      <td>-1.403157</td>\n",
       "      <td>-1.404216</td>\n",
       "      <td>-1.517847</td>\n",
       "      <td>-1.402099</td>\n",
       "      <td>-1.626891</td>\n",
       "      <td>-0.473640</td>\n",
       "      <td>-0.619032</td>\n",
       "      <td>-0.525515</td>\n",
       "    </tr>\n",
       "    <tr>\n",
       "      <th>18</th>\n",
       "      <td>-0.422824</td>\n",
       "      <td>-0.489168</td>\n",
       "      <td>-0.389652</td>\n",
       "      <td>-0.336013</td>\n",
       "      <td>-0.593623</td>\n",
       "      <td>-0.945810</td>\n",
       "      <td>-0.571039</td>\n",
       "      <td>-0.129924</td>\n",
       "      <td>-0.147569</td>\n",
       "      <td>-0.190974</td>\n",
       "    </tr>\n",
       "    <tr>\n",
       "      <th>19</th>\n",
       "      <td>0.070872</td>\n",
       "      <td>0.246965</td>\n",
       "      <td>0.246612</td>\n",
       "      <td>0.523986</td>\n",
       "      <td>0.762892</td>\n",
       "      <td>0.957689</td>\n",
       "      <td>0.653143</td>\n",
       "      <td>0.681023</td>\n",
       "      <td>0.714195</td>\n",
       "      <td>0.265315</td>\n",
       "    </tr>\n",
       "    <tr>\n",
       "      <th>20</th>\n",
       "      <td>0.153096</td>\n",
       "      <td>0.130510</td>\n",
       "      <td>0.358479</td>\n",
       "      <td>0.244495</td>\n",
       "      <td>0.528926</td>\n",
       "      <td>0.275549</td>\n",
       "      <td>0.394827</td>\n",
       "      <td>0.192266</td>\n",
       "      <td>0.038759</td>\n",
       "      <td>-0.111220</td>\n",
       "    </tr>\n",
       "    <tr>\n",
       "      <th>21</th>\n",
       "      <td>-0.271081</td>\n",
       "      <td>-0.326837</td>\n",
       "      <td>-0.427412</td>\n",
       "      <td>-0.621854</td>\n",
       "      <td>-0.374125</td>\n",
       "      <td>-0.742191</td>\n",
       "      <td>-0.466230</td>\n",
       "      <td>-0.393181</td>\n",
       "      <td>-0.361773</td>\n",
       "      <td>-0.591859</td>\n",
       "    </tr>\n",
       "    <tr>\n",
       "      <th>22</th>\n",
       "      <td>-0.887582</td>\n",
       "      <td>-0.857234</td>\n",
       "      <td>-0.507164</td>\n",
       "      <td>-0.375183</td>\n",
       "      <td>-0.318720</td>\n",
       "      <td>-0.326132</td>\n",
       "      <td>-0.247083</td>\n",
       "      <td>-0.192032</td>\n",
       "      <td>-0.309546</td>\n",
       "      <td>-0.301076</td>\n",
       "    </tr>\n",
       "    <tr>\n",
       "      <th>23</th>\n",
       "      <td>-0.036055</td>\n",
       "      <td>-0.108397</td>\n",
       "      <td>-0.336013</td>\n",
       "      <td>-0.191327</td>\n",
       "      <td>-0.169800</td>\n",
       "      <td>0.020408</td>\n",
       "      <td>0.026055</td>\n",
       "      <td>0.050758</td>\n",
       "      <td>0.029584</td>\n",
       "      <td>-0.363890</td>\n",
       "    </tr>\n",
       "    <tr>\n",
       "      <th>24</th>\n",
       "      <td>-0.086871</td>\n",
       "      <td>0.083223</td>\n",
       "      <td>-0.244966</td>\n",
       "      <td>0.056404</td>\n",
       "      <td>-0.176153</td>\n",
       "      <td>-0.082989</td>\n",
       "      <td>0.021467</td>\n",
       "      <td>-0.009234</td>\n",
       "      <td>0.327777</td>\n",
       "      <td>0.354950</td>\n",
       "    </tr>\n",
       "  </tbody>\n",
       "</table>\n",
       "</div>"
      ],
      "text/plain": [
       "           0         1         2         3         4         5         6  \\\n",
       "0   2.537940  2.028011  2.039303  2.318793  1.250236  1.152486  1.121785   \n",
       "1   0.089575  0.182386 -0.254495 -0.356833  0.034524 -0.062168 -0.205442   \n",
       "2  -2.357730 -2.067300 -1.982606 -1.104611 -0.900992 -1.061205 -1.386925   \n",
       "3  -0.864997 -0.998744 -0.855470 -1.163897 -1.554195 -1.464208 -1.323403   \n",
       "4  -1.282116 -0.751366 -0.420707 -0.513164 -0.976865 -0.933458 -0.600328   \n",
       "5  -0.047346  0.185209  0.092045 -0.201913 -0.143686  0.552217  0.940751   \n",
       "6   1.170484  1.179657  1.159191  0.551863  0.918165  1.407626  1.588307   \n",
       "7   1.658181  1.566074  1.609481  1.394923  1.536079  1.267176  1.443975   \n",
       "8   2.282093  2.055184  1.735462  1.615480  1.656061  1.922496  1.253766   \n",
       "9   1.160249  0.805239  0.797830  1.176836  1.158485  1.421743  1.525493   \n",
       "10  0.276961  0.362714  0.113924 -0.113690 -0.321896 -1.054853 -0.564334   \n",
       "11 -0.847706 -0.655026 -0.358597 -0.563627 -0.487050 -0.993097 -1.058029   \n",
       "12 -1.469501 -1.133548 -0.812417 -0.877349 -1.117668 -0.639147  0.023937   \n",
       "13  0.514457  0.183797  0.129452 -0.451055 -0.352951 -0.348716 -0.273198   \n",
       "14  0.676786  0.472463  1.064967  0.981685  0.883229  0.966158  0.955572   \n",
       "15  1.222005  1.152839  1.515964  0.267079 -0.062168 -0.269316 -0.533985   \n",
       "16 -0.303899 -0.285548 -0.450703 -1.142723 -1.229534 -1.329050 -1.357634   \n",
       "17 -1.333638 -1.528081 -1.403157 -1.404216 -1.517847 -1.402099 -1.626891   \n",
       "18 -0.422824 -0.489168 -0.389652 -0.336013 -0.593623 -0.945810 -0.571039   \n",
       "19  0.070872  0.246965  0.246612  0.523986  0.762892  0.957689  0.653143   \n",
       "20  0.153096  0.130510  0.358479  0.244495  0.528926  0.275549  0.394827   \n",
       "21 -0.271081 -0.326837 -0.427412 -0.621854 -0.374125 -0.742191 -0.466230   \n",
       "22 -0.887582 -0.857234 -0.507164 -0.375183 -0.318720 -0.326132 -0.247083   \n",
       "23 -0.036055 -0.108397 -0.336013 -0.191327 -0.169800  0.020408  0.026055   \n",
       "24 -0.086871  0.083223 -0.244966  0.056404 -0.176153 -0.082989  0.021467   \n",
       "\n",
       "           7         8         9  \n",
       "0   1.698762  0.742073  0.249435  \n",
       "1  -2.360553 -2.588874 -2.818254  \n",
       "2  -0.306370 -0.707255 -0.840648  \n",
       "3  -1.571486 -1.750403 -1.170955  \n",
       "4  -0.371654 -0.283431 -0.128512  \n",
       "5   0.706077  0.844763  0.984862  \n",
       "6   1.782750  1.664532  1.789809  \n",
       "7   1.745344  2.001897  2.118351  \n",
       "8   1.226946  0.982745  0.910754  \n",
       "9   0.494342  0.413177  0.254376  \n",
       "10 -0.634912 -0.282372 -0.610915  \n",
       "11 -0.856528 -1.055559 -0.998744  \n",
       "12  0.097692  0.111455  0.008763  \n",
       "13 -0.124630 -0.223087  0.594211  \n",
       "14  1.258354  1.347987  1.318697  \n",
       "15 -0.505400 -0.524809 -0.468347  \n",
       "16 -1.208008 -1.326227 -1.187188  \n",
       "17 -0.473640 -0.619032 -0.525515  \n",
       "18 -0.129924 -0.147569 -0.190974  \n",
       "19  0.681023  0.714195  0.265315  \n",
       "20  0.192266  0.038759 -0.111220  \n",
       "21 -0.393181 -0.361773 -0.591859  \n",
       "22 -0.192032 -0.309546 -0.301076  \n",
       "23  0.050758  0.029584 -0.363890  \n",
       "24 -0.009234  0.327777  0.354950  "
      ]
     },
     "execution_count": 21,
     "metadata": {},
     "output_type": "execute_result"
    }
   ],
   "source": [
    "#Pandas version of the reshaped data\n",
    "\n",
    "pd.DataFrame(new_reshaped, columns=np.arange(0,10,1))"
   ]
  },
  {
   "cell_type": "markdown",
   "id": "659eb4df",
   "metadata": {},
   "source": [
    "## STEP 7: Split the Data\n",
    "\n",
    "In this case, we are using a chronological split as it is stock market data."
   ]
  },
  {
   "cell_type": "code",
   "execution_count": 22,
   "id": "8b6a007c",
   "metadata": {},
   "outputs": [],
   "source": [
    "# create our X and y. \n",
    "# X will be the 9 days prior...\n",
    "X = new_reshaped[:, :-1] # all rows, all columns except the last one\n",
    "# y will be the 10th day (what we are trying to predict)\n",
    "y = new_reshaped[:, -1] # all rows, only the last column"
   ]
  },
  {
   "cell_type": "code",
   "execution_count": 23,
   "id": "c22e0589",
   "metadata": {},
   "outputs": [],
   "source": [
    "#splitting the data ito train and test \n",
    "\n",
    "from sklearn.model_selection import train_test_split\n",
    "\n",
    "X_train, X_test, y_train, y_test = train_test_split(X, y, test_size=0.3)"
   ]
  },
  {
   "cell_type": "code",
   "execution_count": 24,
   "id": "b5ef4506",
   "metadata": {},
   "outputs": [
    {
     "name": "stdout",
     "output_type": "stream",
     "text": [
      "(17, 9, 1)\n",
      "(8, 9, 1)\n"
     ]
    }
   ],
   "source": [
    "X_train = np.reshape(X_train, (X_train.shape[0], X_train.shape[1], 1))\n",
    "X_test = np.reshape(X_test, (X_test.shape[0], X_test.shape[1], 1))\n",
    "\n",
    "print(X_train.shape)\n",
    "print(X_test.shape)"
   ]
  },
  {
   "cell_type": "markdown",
   "id": "9c17fe13",
   "metadata": {},
   "source": [
    "## STEP 8: Create dataframe to store results    \n",
    "\n",
    "We are running 7 models in this notebook. We will store the results in a dataframe for easy comparison."
   ]
  },
  {
   "cell_type": "code",
   "execution_count": 25,
   "id": "f14bdcca",
   "metadata": {},
   "outputs": [],
   "source": [
    "df_results = pd.DataFrame({'model': [], 'mean_squared_error': []})"
   ]
  },
  {
   "cell_type": "markdown",
   "id": "c98e8e4c",
   "metadata": {},
   "source": [
    "## STEP 9: Pre defining the values which we use in all models"
   ]
  },
  {
   "cell_type": "code",
   "execution_count": 26,
   "id": "bbb5e98f",
   "metadata": {},
   "outputs": [],
   "source": [
    "from tensorflow.keras import Sequential\n",
    "from tensorflow.keras.layers import Dense, LSTM, SimpleRNN, GRU, Conv1D\n",
    "\n",
    "n_steps = sequence_length - 1\n",
    "n_inputs = 1\n",
    "monitor='val_root_mean_squared_error'\n",
    "activation=None\n",
    "loss=\"mean_squared_error\"\n",
    "metrics=[tf.keras.metrics.RootMeanSquaredError()]"
   ]
  },
  {
   "cell_type": "markdown",
   "id": "f718ba6c",
   "metadata": {},
   "source": [
    "### STEP 10: APPLYING VARIED MODELS TO THE GIVEN DATA "
   ]
  },
  {
   "cell_type": "markdown",
   "id": "7c72b8e4",
   "metadata": {},
   "source": [
    "## Simple RNN"
   ]
  },
  {
   "cell_type": "code",
   "execution_count": 27,
   "id": "559aa2a2",
   "metadata": {},
   "outputs": [
    {
     "name": "stdout",
     "output_type": "stream",
     "text": [
      "Model: \"sequential\"\n",
      "_________________________________________________________________\n",
      " Layer (type)                Output Shape              Param #   \n",
      "=================================================================\n",
      " simple_rnn (SimpleRNN)      (None, 10)                120       \n",
      "                                                                 \n",
      " dense (Dense)               (None, 1)                 11        \n",
      "                                                                 \n",
      "=================================================================\n",
      "Total params: 131\n",
      "Trainable params: 131\n",
      "Non-trainable params: 0\n",
      "_________________________________________________________________\n"
     ]
    }
   ],
   "source": [
    "model = Sequential(\n",
    "    [\n",
    "        SimpleRNN(10, input_shape=[n_steps, n_inputs]),\n",
    "        Dense(1, activation=activation)\n",
    "    ]\n",
    ")\n",
    "model.summary()"
   ]
  },
  {
   "cell_type": "code",
   "execution_count": 28,
   "id": "6cb99f22",
   "metadata": {},
   "outputs": [],
   "source": [
    "model.compile(\n",
    "    loss=loss, \n",
    "    optimizer=tf.keras.optimizers.Nadam(learning_rate=0.001), \n",
    "    metrics=metrics\n",
    ")"
   ]
  },
  {
   "cell_type": "code",
   "execution_count": 29,
   "id": "d4f96217",
   "metadata": {},
   "outputs": [
    {
     "name": "stdout",
     "output_type": "stream",
     "text": [
      "Epoch 1/50\n",
      "1/1 [==============================] - 1s 771ms/step - loss: 0.8226 - root_mean_squared_error: 0.9070 - val_loss: 0.4107 - val_root_mean_squared_error: 0.6409\n",
      "Epoch 2/50\n",
      "1/1 [==============================] - 0s 24ms/step - loss: 0.7938 - root_mean_squared_error: 0.8910 - val_loss: 0.3939 - val_root_mean_squared_error: 0.6276\n",
      "Epoch 3/50\n",
      "1/1 [==============================] - 0s 29ms/step - loss: 0.7720 - root_mean_squared_error: 0.8787 - val_loss: 0.3774 - val_root_mean_squared_error: 0.6143\n",
      "Epoch 4/50\n",
      "1/1 [==============================] - 0s 24ms/step - loss: 0.7501 - root_mean_squared_error: 0.8661 - val_loss: 0.3612 - val_root_mean_squared_error: 0.6010\n",
      "Epoch 5/50\n",
      "1/1 [==============================] - 0s 28ms/step - loss: 0.7281 - root_mean_squared_error: 0.8533 - val_loss: 0.3453 - val_root_mean_squared_error: 0.5877\n",
      "Epoch 6/50\n",
      "1/1 [==============================] - 0s 29ms/step - loss: 0.7061 - root_mean_squared_error: 0.8403 - val_loss: 0.3301 - val_root_mean_squared_error: 0.5745\n",
      "Epoch 7/50\n",
      "1/1 [==============================] - 0s 25ms/step - loss: 0.6842 - root_mean_squared_error: 0.8271 - val_loss: 0.3154 - val_root_mean_squared_error: 0.5616\n",
      "Epoch 8/50\n",
      "1/1 [==============================] - 0s 30ms/step - loss: 0.6625 - root_mean_squared_error: 0.8139 - val_loss: 0.3015 - val_root_mean_squared_error: 0.5491\n",
      "Epoch 9/50\n",
      "1/1 [==============================] - 0s 26ms/step - loss: 0.6411 - root_mean_squared_error: 0.8007 - val_loss: 0.2885 - val_root_mean_squared_error: 0.5371\n",
      "Epoch 10/50\n",
      "1/1 [==============================] - 0s 24ms/step - loss: 0.6201 - root_mean_squared_error: 0.7875 - val_loss: 0.2763 - val_root_mean_squared_error: 0.5257\n",
      "Epoch 11/50\n",
      "1/1 [==============================] - 0s 26ms/step - loss: 0.5997 - root_mean_squared_error: 0.7744 - val_loss: 0.2652 - val_root_mean_squared_error: 0.5149\n",
      "Epoch 12/50\n",
      "1/1 [==============================] - 0s 29ms/step - loss: 0.5798 - root_mean_squared_error: 0.7615 - val_loss: 0.2550 - val_root_mean_squared_error: 0.5050\n",
      "Epoch 13/50\n",
      "1/1 [==============================] - 0s 26ms/step - loss: 0.5606 - root_mean_squared_error: 0.7487 - val_loss: 0.2458 - val_root_mean_squared_error: 0.4958\n",
      "Epoch 14/50\n",
      "1/1 [==============================] - 0s 23ms/step - loss: 0.5421 - root_mean_squared_error: 0.7363 - val_loss: 0.2377 - val_root_mean_squared_error: 0.4876\n",
      "Epoch 15/50\n",
      "1/1 [==============================] - 0s 23ms/step - loss: 0.5243 - root_mean_squared_error: 0.7241 - val_loss: 0.2306 - val_root_mean_squared_error: 0.4802\n",
      "Epoch 16/50\n",
      "1/1 [==============================] - 0s 30ms/step - loss: 0.5073 - root_mean_squared_error: 0.7123 - val_loss: 0.2246 - val_root_mean_squared_error: 0.4739\n",
      "Epoch 17/50\n",
      "1/1 [==============================] - 0s 26ms/step - loss: 0.4912 - root_mean_squared_error: 0.7009 - val_loss: 0.2195 - val_root_mean_squared_error: 0.4685\n",
      "Epoch 18/50\n",
      "1/1 [==============================] - 0s 26ms/step - loss: 0.4759 - root_mean_squared_error: 0.6899 - val_loss: 0.2153 - val_root_mean_squared_error: 0.4640\n",
      "Epoch 19/50\n",
      "1/1 [==============================] - 0s 24ms/step - loss: 0.4615 - root_mean_squared_error: 0.6793 - val_loss: 0.2120 - val_root_mean_squared_error: 0.4605\n",
      "Epoch 20/50\n",
      "1/1 [==============================] - 0s 24ms/step - loss: 0.4479 - root_mean_squared_error: 0.6692 - val_loss: 0.2096 - val_root_mean_squared_error: 0.4578\n",
      "Epoch 21/50\n",
      "1/1 [==============================] - 0s 25ms/step - loss: 0.4352 - root_mean_squared_error: 0.6597 - val_loss: 0.2079 - val_root_mean_squared_error: 0.4559\n",
      "Epoch 22/50\n",
      "1/1 [==============================] - 0s 25ms/step - loss: 0.4233 - root_mean_squared_error: 0.6506 - val_loss: 0.2068 - val_root_mean_squared_error: 0.4548\n",
      "Epoch 23/50\n",
      "1/1 [==============================] - 0s 27ms/step - loss: 0.4122 - root_mean_squared_error: 0.6420 - val_loss: 0.2064 - val_root_mean_squared_error: 0.4543\n",
      "Epoch 24/50\n",
      "1/1 [==============================] - 0s 23ms/step - loss: 0.4018 - root_mean_squared_error: 0.6339 - val_loss: 0.2065 - val_root_mean_squared_error: 0.4544\n",
      "Epoch 25/50\n",
      "1/1 [==============================] - 0s 24ms/step - loss: 0.3923 - root_mean_squared_error: 0.6263 - val_loss: 0.2070 - val_root_mean_squared_error: 0.4550\n",
      "Epoch 26/50\n",
      "1/1 [==============================] - 0s 25ms/step - loss: 0.3834 - root_mean_squared_error: 0.6192 - val_loss: 0.2079 - val_root_mean_squared_error: 0.4560\n",
      "Epoch 27/50\n",
      "1/1 [==============================] - 0s 30ms/step - loss: 0.3752 - root_mean_squared_error: 0.6125 - val_loss: 0.2091 - val_root_mean_squared_error: 0.4573\n",
      "Epoch 28/50\n",
      "1/1 [==============================] - 0s 24ms/step - loss: 0.3676 - root_mean_squared_error: 0.6063 - val_loss: 0.2105 - val_root_mean_squared_error: 0.4588\n",
      "Epoch 29/50\n",
      "1/1 [==============================] - 0s 22ms/step - loss: 0.3606 - root_mean_squared_error: 0.6005 - val_loss: 0.2120 - val_root_mean_squared_error: 0.4604\n",
      "Epoch 30/50\n",
      "1/1 [==============================] - 0s 26ms/step - loss: 0.3541 - root_mean_squared_error: 0.5951 - val_loss: 0.2136 - val_root_mean_squared_error: 0.4621\n",
      "Epoch 31/50\n",
      "1/1 [==============================] - 0s 25ms/step - loss: 0.3481 - root_mean_squared_error: 0.5900 - val_loss: 0.2151 - val_root_mean_squared_error: 0.4638\n",
      "Epoch 32/50\n",
      "1/1 [==============================] - 0s 25ms/step - loss: 0.3426 - root_mean_squared_error: 0.5853 - val_loss: 0.2165 - val_root_mean_squared_error: 0.4653\n",
      "Epoch 33/50\n",
      "1/1 [==============================] - 0s 24ms/step - loss: 0.3374 - root_mean_squared_error: 0.5809 - val_loss: 0.2178 - val_root_mean_squared_error: 0.4667\n",
      "Epoch 33: early stopping\n"
     ]
    }
   ],
   "source": [
    "from tensorflow.keras.callbacks import EarlyStopping\n",
    "\n",
    "import time\n",
    "start_time = time.time()\n",
    "\n",
    "early_stop = EarlyStopping(monitor=monitor, min_delta = 0.0, patience=10, verbose=1, mode='min')\n",
    "\n",
    "history = model.fit(\n",
    "    X_train, \n",
    "    y_train, \n",
    "    epochs=50,\n",
    "    validation_data=(X_test, y_test), \n",
    "    callbacks=[early_stop]\n",
    ")\n",
    "\n",
    "end_time = time.time()"
   ]
  },
  {
   "cell_type": "code",
   "execution_count": 30,
   "id": "bb717115",
   "metadata": {},
   "outputs": [
    {
     "data": {
      "text/plain": [
       "<matplotlib.legend.Legend at 0x157b4f285b0>"
      ]
     },
     "execution_count": 30,
     "metadata": {},
     "output_type": "execute_result"
    },
    {
     "data": {
      "image/png": "[encoded data removed]",
      "text/plain": [
       "<Figure size 1080x504 with 2 Axes>"
      ]
     },
     "metadata": {
      "needs_background": "light"
     },
     "output_type": "display_data"
    }
   ],
   "source": [
    "fig, (ax1, ax2) = plt.subplots(1, 2, figsize=(15, 7))\n",
    "fig.suptitle('RNN Model Evaluation')\n",
    "\n",
    "ax1.set_title('loss')\n",
    "#ax1.set_ylim(0, 100)\n",
    "ax1.plot(history.history['loss'])\n",
    "ax1.plot(history.history['val_loss'])\n",
    "ax1.legend(['train', 'test'], loc='upper left')\n",
    "\n",
    "ax2.set_title('RMSE')\n",
    "#ax2.set_ylim(0, 1)\n",
    "ax2.plot(history.history['root_mean_squared_error'])\n",
    "ax2.plot(history.history['val_root_mean_squared_error'])\n",
    "ax2.legend(['train', 'test'], loc='upper left')"
   ]
  },
  {
   "cell_type": "markdown",
   "id": "448dc01e",
   "metadata": {},
   "source": [
    "### Predictions"
   ]
  },
  {
   "cell_type": "code",
   "execution_count": 31,
   "id": "f188a15c",
   "metadata": {},
   "outputs": [
    {
     "name": "stdout",
     "output_type": "stream",
     "text": [
      "1/1 [==============================] - 0s 89ms/step\n"
     ]
    }
   ],
   "source": [
    "from sklearn.metrics import classification_report\n",
    "\n",
    "y_pred = model.predict(X_test)\n"
   ]
  },
  {
   "cell_type": "code",
   "execution_count": 32,
   "id": "1dc99297",
   "metadata": {},
   "outputs": [],
   "source": [
    "#lets create a data frame which will shows us the actual and the predicted values \n",
    "comparison = pd.DataFrame()\n",
    "\n",
    "comparison['actual'] = scaler.inverse_transform([y_test]).flatten()\n",
    "comparison['predicted'] = scaler.inverse_transform(y_pred).flatten()"
   ]
  },
  {
   "cell_type": "code",
   "execution_count": 33,
   "id": "16d09e80",
   "metadata": {},
   "outputs": [
    {
     "data": {
      "text/html": [
       "<div>\n",
       "<style scoped>\n",
       "    .dataframe tbody tr th:only-of-type {\n",
       "        vertical-align: middle;\n",
       "    }\n",
       "\n",
       "    .dataframe tbody tr th {\n",
       "        vertical-align: top;\n",
       "    }\n",
       "\n",
       "    .dataframe thead th {\n",
       "        text-align: right;\n",
       "    }\n",
       "</style>\n",
       "<table border=\"1\" class=\"dataframe\">\n",
       "  <thead>\n",
       "    <tr style=\"text-align: right;\">\n",
       "      <th></th>\n",
       "      <th>actual</th>\n",
       "      <th>predicted</th>\n",
       "    </tr>\n",
       "  </thead>\n",
       "  <tbody>\n",
       "    <tr>\n",
       "      <th>0</th>\n",
       "      <td>533.659973</td>\n",
       "      <td>518.927612</td>\n",
       "    </tr>\n",
       "    <tr>\n",
       "      <th>1</th>\n",
       "      <td>513.130005</td>\n",
       "      <td>483.604004</td>\n",
       "    </tr>\n",
       "    <tr>\n",
       "      <th>2</th>\n",
       "      <td>481.399994</td>\n",
       "      <td>477.538391</td>\n",
       "    </tr>\n",
       "    <tr>\n",
       "      <th>3</th>\n",
       "      <td>463.109985</td>\n",
       "      <td>463.932281</td>\n",
       "    </tr>\n",
       "    <tr>\n",
       "      <th>4</th>\n",
       "      <td>479.519989</td>\n",
       "      <td>479.814667</td>\n",
       "    </tr>\n",
       "    <tr>\n",
       "      <th>5</th>\n",
       "      <td>478.980011</td>\n",
       "      <td>467.090637</td>\n",
       "    </tr>\n",
       "    <tr>\n",
       "      <th>6</th>\n",
       "      <td>490.880005</td>\n",
       "      <td>482.871918</td>\n",
       "    </tr>\n",
       "    <tr>\n",
       "      <th>7</th>\n",
       "      <td>503.809998</td>\n",
       "      <td>513.259216</td>\n",
       "    </tr>\n",
       "  </tbody>\n",
       "</table>\n",
       "</div>"
      ],
      "text/plain": [
       "       actual   predicted\n",
       "0  533.659973  518.927612\n",
       "1  513.130005  483.604004\n",
       "2  481.399994  477.538391\n",
       "3  463.109985  463.932281\n",
       "4  479.519989  479.814667\n",
       "5  478.980011  467.090637\n",
       "6  490.880005  482.871918\n",
       "7  503.809998  513.259216"
      ]
     },
     "execution_count": 33,
     "metadata": {},
     "output_type": "execute_result"
    }
   ],
   "source": [
    "comparison"
   ]
  },
  {
   "cell_type": "code",
   "execution_count": 34,
   "id": "da14f83c",
   "metadata": {},
   "outputs": [
    {
     "data": {
      "text/plain": [
       "174.90957165522093"
      ]
     },
     "execution_count": 34,
     "metadata": {},
     "output_type": "execute_result"
    }
   ],
   "source": [
    "from sklearn.metrics import mean_squared_error\n",
    "\n",
    "mse=mean_squared_error(comparison['actual'], comparison['predicted'])\n",
    "mse"
   ]
  },
  {
   "cell_type": "code",
   "execution_count": 35,
   "id": "1b2b438a",
   "metadata": {},
   "outputs": [
    {
     "data": {
      "image/png": "[encoded data removed]",
      "text/plain": [
       "<Figure size 432x288 with 1 Axes>"
      ]
     },
     "metadata": {
      "needs_background": "light"
     },
     "output_type": "display_data"
    }
   ],
   "source": [
    "plt.plot(comparison['actual'], label = 'actual')\n",
    "plt.plot(comparison['predicted'], label = 'predicted')\n",
    "\n",
    "plt.legend()\n",
    "\n",
    "plt.show()"
   ]
  },
  {
   "cell_type": "markdown",
   "id": "66e83a5c",
   "metadata": {},
   "source": [
    "Here we can clearly see the actual and predicting values for closing stock price using simple RNN, which are not similar."
   ]
  },
  {
   "cell_type": "code",
   "execution_count": 36,
   "id": "2c26512a",
   "metadata": {},
   "outputs": [],
   "source": [
    "df_result = pd.DataFrame(\n",
    "    {\n",
    "        'model': ['RNN'], \n",
    "        'mean_squared_error': mse\n",
    "    }\n",
    ")\n",
    "\n",
    "df_results = pd.concat([df_results, df_result], ignore_index=True, axis=0)"
   ]
  },
  {
   "cell_type": "markdown",
   "id": "c7a24550",
   "metadata": {},
   "source": [
    "## Deep RNN\n",
    "Be careful: when stacking RNN layers, you have to set \"return_sequences\" to True. This enables the layer to send a \"sequence\" of values to the next layer -- jut like how it uses a sequence of values for training.\n",
    "\n",
    "Since the last layer is DENSE, it can't take sequence data. Therefore, you CANNOT return sequences from the previous layer. So, remove return_sequences from previous layer."
   ]
  },
  {
   "cell_type": "code",
   "execution_count": 37,
   "id": "5d11bca0",
   "metadata": {},
   "outputs": [],
   "source": [
    "n_steps = sequence_length - 1\n",
    "n_inputs = 1\n",
    "\n",
    "\n",
    "model = keras.models.Sequential(\n",
    "    [\n",
    "        keras.layers.SimpleRNN(20, return_sequences=True, input_shape=[n_steps, n_inputs]),\n",
    "        keras.layers.SimpleRNN(10, return_sequences=True),\n",
    "        keras.layers.SimpleRNN(20, return_sequences=False), \n",
    "        keras.layers.Dense(1, activation=activation)\n",
    "    ]\n",
    ")"
   ]
  },
  {
   "cell_type": "code",
   "execution_count": 38,
   "id": "891bf7b9",
   "metadata": {},
   "outputs": [],
   "source": [
    "from tensorflow.keras.callbacks import EarlyStopping\n",
    "\n",
    "model.compile(\n",
    "    loss=loss, \n",
    "    optimizer=tf.keras.optimizers.Nadam(learning_rate=0.001), \n",
    "    metrics=metrics\n",
    ")"
   ]
  },
  {
   "cell_type": "code",
   "execution_count": 39,
   "id": "1e61cfe4",
   "metadata": {},
   "outputs": [
    {
     "name": "stdout",
     "output_type": "stream",
     "text": [
      "Epoch 1/50\n",
      "1/1 [==============================] - 5s 5s/step - loss: 1.2967 - root_mean_squared_error: 0.9754 - val_loss: 0.6096 - val_root_mean_squared_error: 0.7808\n",
      "Epoch 2/50\n",
      "1/1 [==============================] - 0s 67ms/step - loss: 1.1666 - root_mean_squared_error: 1.0801 - val_loss: 0.4963 - val_root_mean_squared_error: 0.7045\n",
      "Epoch 3/50\n",
      "1/1 [==============================] - 0s 67ms/step - loss: 1.0452 - root_mean_squared_error: 1.0223 - val_loss: 0.3858 - val_root_mean_squared_error: 0.6211\n",
      "Epoch 4/50\n",
      "1/1 [==============================] - 0s 63ms/step - loss: 0.9237 - root_mean_squared_error: 0.9611 - val_loss: 0.2893 - val_root_mean_squared_error: 0.5378\n",
      "Epoch 5/50\n",
      "1/1 [==============================] - 0s 70ms/step - loss: 0.8105 - root_mean_squared_error: 0.9003 - val_loss: 0.2167 - val_root_mean_squared_error: 0.4655\n",
      "Epoch 6/50\n",
      "1/1 [==============================] - 0s 70ms/step - loss: 0.7142 - root_mean_squared_error: 0.8451 - val_loss: 0.1692 - val_root_mean_squared_error: 0.4114\n",
      "Epoch 7/50\n",
      "1/1 [==============================] - 0s 65ms/step - loss: 0.6371 - root_mean_squared_error: 0.7982 - val_loss: 0.1403 - val_root_mean_squared_error: 0.3746\n",
      "Epoch 8/50\n",
      "1/1 [==============================] - 0s 71ms/step - loss: 0.5753 - root_mean_squared_error: 0.7585 - val_loss: 0.1223 - val_root_mean_squared_error: 0.3497\n",
      "Epoch 9/50\n",
      "1/1 [==============================] - 0s 67ms/step - loss: 0.5234 - root_mean_squared_error: 0.7235 - val_loss: 0.1100 - val_root_mean_squared_error: 0.3317\n",
      "Epoch 10/50\n",
      "1/1 [==============================] - 0s 73ms/step - loss: 0.4780 - root_mean_squared_error: 0.6914 - val_loss: 0.1008 - val_root_mean_squared_error: 0.3175\n",
      "Epoch 11/50\n",
      "1/1 [==============================] - 0s 65ms/step - loss: 0.4373 - root_mean_squared_error: 0.6613 - val_loss: 0.0932 - val_root_mean_squared_error: 0.3053\n",
      "Epoch 12/50\n",
      "1/1 [==============================] - 0s 70ms/step - loss: 0.4005 - root_mean_squared_error: 0.6328 - val_loss: 0.0867 - val_root_mean_squared_error: 0.2945\n",
      "Epoch 13/50\n",
      "1/1 [==============================] - 0s 69ms/step - loss: 0.3672 - root_mean_squared_error: 0.6060 - val_loss: 0.0813 - val_root_mean_squared_error: 0.2851\n",
      "Epoch 14/50\n",
      "1/1 [==============================] - 0s 69ms/step - loss: 0.3373 - root_mean_squared_error: 0.5808 - val_loss: 0.0767 - val_root_mean_squared_error: 0.2770\n",
      "Epoch 15/50\n",
      "1/1 [==============================] - 0s 68ms/step - loss: 0.3107 - root_mean_squared_error: 0.5574 - val_loss: 0.0731 - val_root_mean_squared_error: 0.2704\n",
      "Epoch 16/50\n",
      "1/1 [==============================] - 0s 63ms/step - loss: 0.2872 - root_mean_squared_error: 0.5359 - val_loss: 0.0704 - val_root_mean_squared_error: 0.2653\n",
      "Epoch 17/50\n",
      "1/1 [==============================] - 0s 72ms/step - loss: 0.2666 - root_mean_squared_error: 0.5164 - val_loss: 0.0685 - val_root_mean_squared_error: 0.2617\n",
      "Epoch 18/50\n",
      "1/1 [==============================] - 0s 61ms/step - loss: 0.2488 - root_mean_squared_error: 0.4988 - val_loss: 0.0673 - val_root_mean_squared_error: 0.2593\n",
      "Epoch 19/50\n",
      "1/1 [==============================] - 0s 65ms/step - loss: 0.2333 - root_mean_squared_error: 0.4830 - val_loss: 0.0666 - val_root_mean_squared_error: 0.2581\n",
      "Epoch 20/50\n",
      "1/1 [==============================] - 0s 66ms/step - loss: 0.2198 - root_mean_squared_error: 0.4688 - val_loss: 0.0665 - val_root_mean_squared_error: 0.2578\n",
      "Epoch 21/50\n",
      "1/1 [==============================] - 0s 62ms/step - loss: 0.2080 - root_mean_squared_error: 0.4561 - val_loss: 0.0666 - val_root_mean_squared_error: 0.2581\n",
      "Epoch 22/50\n",
      "1/1 [==============================] - 0s 68ms/step - loss: 0.1976 - root_mean_squared_error: 0.4445 - val_loss: 0.0671 - val_root_mean_squared_error: 0.2591\n",
      "Epoch 23/50\n",
      "1/1 [==============================] - 0s 60ms/step - loss: 0.1882 - root_mean_squared_error: 0.4338 - val_loss: 0.0678 - val_root_mean_squared_error: 0.2605\n",
      "Epoch 24/50\n",
      "1/1 [==============================] - 0s 65ms/step - loss: 0.1797 - root_mean_squared_error: 0.4239 - val_loss: 0.0688 - val_root_mean_squared_error: 0.2623\n",
      "Epoch 25/50\n",
      "1/1 [==============================] - 0s 68ms/step - loss: 0.1719 - root_mean_squared_error: 0.4147 - val_loss: 0.0699 - val_root_mean_squared_error: 0.2645\n",
      "Epoch 25: early stopping\n"
     ]
    }
   ],
   "source": [
    "import time\n",
    "start_time = time.time()\n",
    "\n",
    "early_stop = EarlyStopping(monitor=monitor, min_delta=0.0, patience=5, verbose=1, mode='min')\n",
    "\n",
    "history = model.fit(\n",
    "    X_train, \n",
    "    y_train, \n",
    "    epochs=50,\n",
    "    validation_data = (X_test, y_test), \n",
    "    callbacks=[early_stop]\n",
    ")  \n",
    "\n",
    "end_time = time.time()"
   ]
  },
  {
   "cell_type": "code",
   "execution_count": 40,
   "id": "b3b9c416",
   "metadata": {},
   "outputs": [
    {
     "data": {
      "image/png": "[encoded data removed]",
      "text/plain": [
       "<Figure size 1080x504 with 2 Axes>"
      ]
     },
     "metadata": {
      "needs_background": "light"
     },
     "output_type": "display_data"
    }
   ],
   "source": [
    "fig, (ax1, ax2) = plt.subplots(1, 2, figsize=(15, 7))\n",
    "fig.suptitle('Deep RNN Model Evaluation')\n",
    "\n",
    "ax1.set_title('loss')\n",
    "#ax1.set_ylim(0, 100)\n",
    "ax1.plot(history.history['loss'])\n",
    "ax1.plot(history.history['val_loss'])\n",
    "ax1.legend(['train', 'test'], loc='upper left')\n",
    "\n",
    "ax2.set_title('RMSE')\n",
    "#ax2.set_ylim(0, 1)\n",
    "ax2.plot(history.history['root_mean_squared_error'])\n",
    "ax2.plot(history.history['val_root_mean_squared_error'])\n",
    "ax2.legend(['train', 'test'], loc='upper left')\n",
    "\n",
    "plt.show()"
   ]
  },
  {
   "cell_type": "markdown",
   "id": "ace20042",
   "metadata": {},
   "source": [
    "### Predictions"
   ]
  },
  {
   "cell_type": "code",
   "execution_count": 41,
   "id": "f5b0a64c",
   "metadata": {},
   "outputs": [
    {
     "name": "stdout",
     "output_type": "stream",
     "text": [
      "1/1 [==============================] - 0s 483ms/step\n"
     ]
    }
   ],
   "source": [
    "#Predict:\n",
    "y_pred = model.predict(X_test)\n"
   ]
  },
  {
   "cell_type": "code",
   "execution_count": 42,
   "id": "117efb3f",
   "metadata": {},
   "outputs": [],
   "source": [
    "comparison = pd.DataFrame()\n",
    "\n",
    "comparison['actual'] = scaler.inverse_transform([y_test]).flatten()\n",
    "comparison['predicted'] = scaler.inverse_transform(y_pred).flatten()"
   ]
  },
  {
   "cell_type": "code",
   "execution_count": 43,
   "id": "c7e4e040",
   "metadata": {},
   "outputs": [
    {
     "data": {
      "text/html": [
       "<div>\n",
       "<style scoped>\n",
       "    .dataframe tbody tr th:only-of-type {\n",
       "        vertical-align: middle;\n",
       "    }\n",
       "\n",
       "    .dataframe tbody tr th {\n",
       "        vertical-align: top;\n",
       "    }\n",
       "\n",
       "    .dataframe thead th {\n",
       "        text-align: right;\n",
       "    }\n",
       "</style>\n",
       "<table border=\"1\" class=\"dataframe\">\n",
       "  <thead>\n",
       "    <tr style=\"text-align: right;\">\n",
       "      <th></th>\n",
       "      <th>actual</th>\n",
       "      <th>predicted</th>\n",
       "    </tr>\n",
       "  </thead>\n",
       "  <tbody>\n",
       "    <tr>\n",
       "      <th>0</th>\n",
       "      <td>533.659973</td>\n",
       "      <td>530.028992</td>\n",
       "    </tr>\n",
       "    <tr>\n",
       "      <th>1</th>\n",
       "      <td>513.130005</td>\n",
       "      <td>493.947845</td>\n",
       "    </tr>\n",
       "    <tr>\n",
       "      <th>2</th>\n",
       "      <td>481.399994</td>\n",
       "      <td>480.998352</td>\n",
       "    </tr>\n",
       "    <tr>\n",
       "      <th>3</th>\n",
       "      <td>463.109985</td>\n",
       "      <td>465.071136</td>\n",
       "    </tr>\n",
       "    <tr>\n",
       "      <th>4</th>\n",
       "      <td>479.519989</td>\n",
       "      <td>480.079315</td>\n",
       "    </tr>\n",
       "    <tr>\n",
       "      <th>5</th>\n",
       "      <td>478.980011</td>\n",
       "      <td>480.872894</td>\n",
       "    </tr>\n",
       "    <tr>\n",
       "      <th>6</th>\n",
       "      <td>490.880005</td>\n",
       "      <td>490.850891</td>\n",
       "    </tr>\n",
       "    <tr>\n",
       "      <th>7</th>\n",
       "      <td>503.809998</td>\n",
       "      <td>511.570099</td>\n",
       "    </tr>\n",
       "  </tbody>\n",
       "</table>\n",
       "</div>"
      ],
      "text/plain": [
       "       actual   predicted\n",
       "0  533.659973  530.028992\n",
       "1  513.130005  493.947845\n",
       "2  481.399994  480.998352\n",
       "3  463.109985  465.071136\n",
       "4  479.519989  480.079315\n",
       "5  478.980011  480.872894\n",
       "6  490.880005  490.850891\n",
       "7  503.809998  511.570099"
      ]
     },
     "execution_count": 43,
     "metadata": {},
     "output_type": "execute_result"
    }
   ],
   "source": [
    "comparison"
   ]
  },
  {
   "cell_type": "code",
   "execution_count": 44,
   "id": "578504b8",
   "metadata": {},
   "outputs": [
    {
     "data": {
      "text/plain": [
       "56.15782092308489"
      ]
     },
     "execution_count": 44,
     "metadata": {},
     "output_type": "execute_result"
    }
   ],
   "source": [
    "mse_2=mean_squared_error(comparison['actual'], comparison['predicted'])\n",
    "mse_2"
   ]
  },
  {
   "cell_type": "code",
   "execution_count": 45,
   "id": "3bfec63e",
   "metadata": {},
   "outputs": [
    {
     "data": {
      "image/png": "[encoded data removed]",
      "text/plain": [
       "<Figure size 432x288 with 1 Axes>"
      ]
     },
     "metadata": {
      "needs_background": "light"
     },
     "output_type": "display_data"
    }
   ],
   "source": [
    "plt.plot(comparison['actual'], label = 'actual')\n",
    "plt.plot(comparison['predicted'], label = 'predicted')\n",
    "\n",
    "plt.legend()\n",
    "\n",
    "plt.show()"
   ]
  },
  {
   "cell_type": "markdown",
   "id": "ea1609d2",
   "metadata": {},
   "source": [
    "Here, the actual and predicting values for this model are sort of okay."
   ]
  },
  {
   "cell_type": "code",
   "execution_count": 46,
   "id": "7375ba9b",
   "metadata": {},
   "outputs": [],
   "source": [
    "df_result = pd.DataFrame(\n",
    "    {\n",
    "        'model': ['Deep RNN'], \n",
    "        'mean_squared_error': mse_2\n",
    "    }\n",
    ")\n",
    "\n",
    "df_results = pd.concat([df_results, df_result], ignore_index=True, axis=0)"
   ]
  },
  {
   "cell_type": "markdown",
   "id": "9938f32d",
   "metadata": {},
   "source": [
    "## LSTM with one layer\n"
   ]
  },
  {
   "cell_type": "code",
   "execution_count": 47,
   "id": "c5c4ebe3",
   "metadata": {},
   "outputs": [],
   "source": [
    "model = keras.models.Sequential(\n",
    "    [\n",
    "        keras.layers.LSTM(10, input_shape=[n_steps, n_inputs]),\n",
    "        keras.layers.Dense(1, activation=activation)\n",
    "    ]\n",
    ")"
   ]
  },
  {
   "cell_type": "code",
   "execution_count": 48,
   "id": "ef8ea410",
   "metadata": {},
   "outputs": [
    {
     "name": "stdout",
     "output_type": "stream",
     "text": [
      "Model: \"sequential_2\"\n",
      "_________________________________________________________________\n",
      " Layer (type)                Output Shape              Param #   \n",
      "=================================================================\n",
      " lstm (LSTM)                 (None, 10)                480       \n",
      "                                                                 \n",
      " dense_2 (Dense)             (None, 1)                 11        \n",
      "                                                                 \n",
      "=================================================================\n",
      "Total params: 491\n",
      "Trainable params: 491\n",
      "Non-trainable params: 0\n",
      "_________________________________________________________________\n"
     ]
    }
   ],
   "source": [
    "model.compile(\n",
    "    loss=loss, \n",
    "    optimizer=keras.optimizers.Nadam(learning_rate=0.001), \n",
    "    metrics=metrics\n",
    ")\n",
    "model.summary()"
   ]
  },
  {
   "cell_type": "markdown",
   "id": "37caf772",
   "metadata": {},
   "source": [
    "### Calculate the number of paramaters for the model\n"
   ]
  },
  {
   "cell_type": "code",
   "execution_count": 49,
   "id": "974f38c4",
   "metadata": {},
   "outputs": [
    {
     "name": "stdout",
     "output_type": "stream",
     "text": [
      "Epoch 1/50\n",
      "1/1 [==============================] - 4s 4s/step - loss: 1.0654 - root_mean_squared_error: 0.8642 - val_loss: 0.4752 - val_root_mean_squared_error: 0.6894\n",
      "Epoch 2/50\n",
      "1/1 [==============================] - 0s 69ms/step - loss: 1.0525 - root_mean_squared_error: 1.0259 - val_loss: 0.4680 - val_root_mean_squared_error: 0.6841\n",
      "Epoch 3/50\n",
      "1/1 [==============================] - 0s 67ms/step - loss: 1.0430 - root_mean_squared_error: 1.0213 - val_loss: 0.4606 - val_root_mean_squared_error: 0.6787\n",
      "Epoch 4/50\n",
      "1/1 [==============================] - 0s 64ms/step - loss: 1.0333 - root_mean_squared_error: 1.0165 - val_loss: 0.4531 - val_root_mean_squared_error: 0.6731\n",
      "Epoch 5/50\n",
      "1/1 [==============================] - 0s 72ms/step - loss: 1.0232 - root_mean_squared_error: 1.0115 - val_loss: 0.4454 - val_root_mean_squared_error: 0.6674\n",
      "Epoch 6/50\n",
      "1/1 [==============================] - 0s 62ms/step - loss: 1.0129 - root_mean_squared_error: 1.0065 - val_loss: 0.4377 - val_root_mean_squared_error: 0.6616\n",
      "Epoch 7/50\n",
      "1/1 [==============================] - 0s 57ms/step - loss: 1.0025 - root_mean_squared_error: 1.0012 - val_loss: 0.4300 - val_root_mean_squared_error: 0.6557\n",
      "Epoch 8/50\n",
      "1/1 [==============================] - 0s 64ms/step - loss: 0.9918 - root_mean_squared_error: 0.9959 - val_loss: 0.4222 - val_root_mean_squared_error: 0.6498\n",
      "Epoch 9/50\n",
      "1/1 [==============================] - 0s 61ms/step - loss: 0.9810 - root_mean_squared_error: 0.9904 - val_loss: 0.4144 - val_root_mean_squared_error: 0.6438\n",
      "Epoch 10/50\n",
      "1/1 [==============================] - 0s 71ms/step - loss: 0.9701 - root_mean_squared_error: 0.9849 - val_loss: 0.4067 - val_root_mean_squared_error: 0.6377\n",
      "Epoch 11/50\n",
      "1/1 [==============================] - 0s 69ms/step - loss: 0.9590 - root_mean_squared_error: 0.9793 - val_loss: 0.3990 - val_root_mean_squared_error: 0.6317\n",
      "Epoch 12/50\n",
      "1/1 [==============================] - 0s 62ms/step - loss: 0.9480 - root_mean_squared_error: 0.9736 - val_loss: 0.3914 - val_root_mean_squared_error: 0.6256\n",
      "Epoch 13/50\n",
      "1/1 [==============================] - 0s 64ms/step - loss: 0.9368 - root_mean_squared_error: 0.9679 - val_loss: 0.3838 - val_root_mean_squared_error: 0.6195\n",
      "Epoch 14/50\n",
      "1/1 [==============================] - 0s 62ms/step - loss: 0.9257 - root_mean_squared_error: 0.9621 - val_loss: 0.3764 - val_root_mean_squared_error: 0.6135\n",
      "Epoch 15/50\n",
      "1/1 [==============================] - 0s 69ms/step - loss: 0.9146 - root_mean_squared_error: 0.9563 - val_loss: 0.3690 - val_root_mean_squared_error: 0.6075\n",
      "Epoch 16/50\n",
      "1/1 [==============================] - 0s 65ms/step - loss: 0.9034 - root_mean_squared_error: 0.9505 - val_loss: 0.3618 - val_root_mean_squared_error: 0.6015\n",
      "Epoch 17/50\n",
      "1/1 [==============================] - 0s 60ms/step - loss: 0.8924 - root_mean_squared_error: 0.9447 - val_loss: 0.3547 - val_root_mean_squared_error: 0.5955\n",
      "Epoch 18/50\n",
      "1/1 [==============================] - 0s 65ms/step - loss: 0.8814 - root_mean_squared_error: 0.9388 - val_loss: 0.3477 - val_root_mean_squared_error: 0.5897\n",
      "Epoch 19/50\n",
      "1/1 [==============================] - 0s 63ms/step - loss: 0.8704 - root_mean_squared_error: 0.9330 - val_loss: 0.3409 - val_root_mean_squared_error: 0.5838\n",
      "Epoch 20/50\n",
      "1/1 [==============================] - 0s 63ms/step - loss: 0.8596 - root_mean_squared_error: 0.9271 - val_loss: 0.3342 - val_root_mean_squared_error: 0.5781\n",
      "Epoch 21/50\n",
      "1/1 [==============================] - 0s 62ms/step - loss: 0.8488 - root_mean_squared_error: 0.9213 - val_loss: 0.3276 - val_root_mean_squared_error: 0.5724\n",
      "Epoch 22/50\n",
      "1/1 [==============================] - 0s 59ms/step - loss: 0.8382 - root_mean_squared_error: 0.9155 - val_loss: 0.3212 - val_root_mean_squared_error: 0.5668\n",
      "Epoch 23/50\n",
      "1/1 [==============================] - 0s 64ms/step - loss: 0.8276 - root_mean_squared_error: 0.9097 - val_loss: 0.3150 - val_root_mean_squared_error: 0.5612\n",
      "Epoch 24/50\n",
      "1/1 [==============================] - 0s 57ms/step - loss: 0.8172 - root_mean_squared_error: 0.9040 - val_loss: 0.3089 - val_root_mean_squared_error: 0.5558\n",
      "Epoch 25/50\n",
      "1/1 [==============================] - 0s 66ms/step - loss: 0.8070 - root_mean_squared_error: 0.8983 - val_loss: 0.3030 - val_root_mean_squared_error: 0.5504\n",
      "Epoch 26/50\n",
      "1/1 [==============================] - 0s 69ms/step - loss: 0.7968 - root_mean_squared_error: 0.8927 - val_loss: 0.2972 - val_root_mean_squared_error: 0.5452\n",
      "Epoch 27/50\n",
      "1/1 [==============================] - 0s 60ms/step - loss: 0.7868 - root_mean_squared_error: 0.8870 - val_loss: 0.2916 - val_root_mean_squared_error: 0.5400\n",
      "Epoch 28/50\n",
      "1/1 [==============================] - 0s 65ms/step - loss: 0.7770 - root_mean_squared_error: 0.8815 - val_loss: 0.2861 - val_root_mean_squared_error: 0.5349\n",
      "Epoch 29/50\n",
      "1/1 [==============================] - 0s 61ms/step - loss: 0.7673 - root_mean_squared_error: 0.8760 - val_loss: 0.2808 - val_root_mean_squared_error: 0.5299\n",
      "Epoch 30/50\n",
      "1/1 [==============================] - 0s 64ms/step - loss: 0.7578 - root_mean_squared_error: 0.8705 - val_loss: 0.2757 - val_root_mean_squared_error: 0.5250\n",
      "Epoch 31/50\n",
      "1/1 [==============================] - 0s 65ms/step - loss: 0.7484 - root_mean_squared_error: 0.8651 - val_loss: 0.2707 - val_root_mean_squared_error: 0.5203\n",
      "Epoch 32/50\n",
      "1/1 [==============================] - 0s 60ms/step - loss: 0.7392 - root_mean_squared_error: 0.8598 - val_loss: 0.2658 - val_root_mean_squared_error: 0.5156\n",
      "Epoch 33/50\n",
      "1/1 [==============================] - 0s 64ms/step - loss: 0.7302 - root_mean_squared_error: 0.8545 - val_loss: 0.2611 - val_root_mean_squared_error: 0.5110\n",
      "Epoch 34/50\n",
      "1/1 [==============================] - 0s 60ms/step - loss: 0.7213 - root_mean_squared_error: 0.8493 - val_loss: 0.2566 - val_root_mean_squared_error: 0.5065\n",
      "Epoch 35/50\n",
      "1/1 [==============================] - 0s 67ms/step - loss: 0.7127 - root_mean_squared_error: 0.8442 - val_loss: 0.2522 - val_root_mean_squared_error: 0.5022\n",
      "Epoch 36/50\n",
      "1/1 [==============================] - 0s 65ms/step - loss: 0.7041 - root_mean_squared_error: 0.8391 - val_loss: 0.2480 - val_root_mean_squared_error: 0.4980\n",
      "Epoch 37/50\n",
      "1/1 [==============================] - 0s 61ms/step - loss: 0.6958 - root_mean_squared_error: 0.8341 - val_loss: 0.2439 - val_root_mean_squared_error: 0.4938\n",
      "Epoch 38/50\n",
      "1/1 [==============================] - 0s 66ms/step - loss: 0.6876 - root_mean_squared_error: 0.8292 - val_loss: 0.2399 - val_root_mean_squared_error: 0.4898\n",
      "Epoch 39/50\n",
      "1/1 [==============================] - 0s 63ms/step - loss: 0.6796 - root_mean_squared_error: 0.8244 - val_loss: 0.2361 - val_root_mean_squared_error: 0.4859\n",
      "Epoch 40/50\n",
      "1/1 [==============================] - 0s 67ms/step - loss: 0.6718 - root_mean_squared_error: 0.8196 - val_loss: 0.2325 - val_root_mean_squared_error: 0.4822\n",
      "Epoch 41/50\n",
      "1/1 [==============================] - 0s 65ms/step - loss: 0.6642 - root_mean_squared_error: 0.8150 - val_loss: 0.2290 - val_root_mean_squared_error: 0.4785\n",
      "Epoch 42/50\n",
      "1/1 [==============================] - 0s 62ms/step - loss: 0.6567 - root_mean_squared_error: 0.8104 - val_loss: 0.2256 - val_root_mean_squared_error: 0.4750\n",
      "Epoch 43/50\n",
      "1/1 [==============================] - 0s 63ms/step - loss: 0.6494 - root_mean_squared_error: 0.8059 - val_loss: 0.2224 - val_root_mean_squared_error: 0.4716\n",
      "Epoch 44/50\n",
      "1/1 [==============================] - 0s 65ms/step - loss: 0.6423 - root_mean_squared_error: 0.8015 - val_loss: 0.2193 - val_root_mean_squared_error: 0.4683\n",
      "Epoch 45/50\n",
      "1/1 [==============================] - 0s 65ms/step - loss: 0.6354 - root_mean_squared_error: 0.7971 - val_loss: 0.2164 - val_root_mean_squared_error: 0.4652\n",
      "Epoch 46/50\n",
      "1/1 [==============================] - 0s 64ms/step - loss: 0.6286 - root_mean_squared_error: 0.7929 - val_loss: 0.2136 - val_root_mean_squared_error: 0.4621\n",
      "Epoch 47/50\n",
      "1/1 [==============================] - 0s 69ms/step - loss: 0.6221 - root_mean_squared_error: 0.7887 - val_loss: 0.2109 - val_root_mean_squared_error: 0.4593\n",
      "Epoch 48/50\n",
      "1/1 [==============================] - 0s 66ms/step - loss: 0.6156 - root_mean_squared_error: 0.7846 - val_loss: 0.2084 - val_root_mean_squared_error: 0.4565\n",
      "Epoch 49/50\n",
      "1/1 [==============================] - 0s 66ms/step - loss: 0.6094 - root_mean_squared_error: 0.7806 - val_loss: 0.2060 - val_root_mean_squared_error: 0.4539\n",
      "Epoch 50/50\n",
      "1/1 [==============================] - 0s 66ms/step - loss: 0.6033 - root_mean_squared_error: 0.7767 - val_loss: 0.2038 - val_root_mean_squared_error: 0.4514\n"
     ]
    }
   ],
   "source": [
    "import time\n",
    "start_time = time.time()\n",
    "\n",
    "early_stop = EarlyStopping(monitor=monitor, min_delta = 0.0, patience=5, verbose=1, mode='min')\n",
    "\n",
    "history = model.fit(\n",
    "    X_train, \n",
    "    y_train, \n",
    "    epochs=50,\n",
    "    validation_data=(X_test, y_test),\n",
    "    callbacks=[early_stop]\n",
    ") \n",
    "\n",
    "end_time = time.time()"
   ]
  },
  {
   "cell_type": "code",
   "execution_count": 50,
   "id": "3aaa1818",
   "metadata": {},
   "outputs": [
    {
     "data": {
      "image/png": "[encoded data removed]",
      "text/plain": [
       "<Figure size 1080x504 with 2 Axes>"
      ]
     },
     "metadata": {
      "needs_background": "light"
     },
     "output_type": "display_data"
    }
   ],
   "source": [
    "fig, (ax1, ax2) = plt.subplots(1, 2, figsize=(15, 7))\n",
    "fig.suptitle('LSTM Model Evaluation')\n",
    "\n",
    "ax1.set_title('loss')\n",
    "#ax1.set_ylim(0, 100)\n",
    "ax1.plot(history.history['loss'])\n",
    "ax1.plot(history.history['val_loss'])\n",
    "ax1.legend(['train', 'test'], loc='upper left')\n",
    "\n",
    "ax2.set_title('RMSE')\n",
    "#ax2.set_ylim(0, 1)\n",
    "ax2.plot(history.history['root_mean_squared_error'])\n",
    "ax2.plot(history.history['val_root_mean_squared_error'])\n",
    "ax2.legend(['train', 'test'], loc='upper left')\n",
    "\n",
    "plt.show()"
   ]
  },
  {
   "cell_type": "markdown",
   "id": "ab3d997c",
   "metadata": {},
   "source": [
    "### Predictions\n"
   ]
  },
  {
   "cell_type": "code",
   "execution_count": 51,
   "id": "5e4da0ae",
   "metadata": {},
   "outputs": [
    {
     "name": "stdout",
     "output_type": "stream",
     "text": [
      "1/1 [==============================] - 1s 564ms/step\n"
     ]
    }
   ],
   "source": [
    "#Predict:\n",
    "y_pred = model.predict(X_test)\n"
   ]
  },
  {
   "cell_type": "code",
   "execution_count": 52,
   "id": "3a9537dc",
   "metadata": {},
   "outputs": [],
   "source": [
    "#Remember, these are standardized values. \n",
    "\n",
    "comparison = pd.DataFrame()\n",
    "\n",
    "comparison['actual'] = scaler.inverse_transform([y_test]).flatten()\n",
    "comparison['predicted'] = scaler.inverse_transform(y_pred).flatten()"
   ]
  },
  {
   "cell_type": "code",
   "execution_count": 53,
   "id": "8074b020",
   "metadata": {},
   "outputs": [
    {
     "data": {
      "text/plain": [
       "163.6359364066576"
      ]
     },
     "execution_count": 53,
     "metadata": {},
     "output_type": "execute_result"
    }
   ],
   "source": [
    "mse_3=mean_squared_error(comparison['actual'], comparison['predicted'])\n",
    "mse_3"
   ]
  },
  {
   "cell_type": "code",
   "execution_count": 54,
   "id": "6d18b11b",
   "metadata": {},
   "outputs": [
    {
     "data": {
      "image/png": "[encoded data removed]",
      "text/plain": [
       "<Figure size 432x288 with 1 Axes>"
      ]
     },
     "metadata": {
      "needs_background": "light"
     },
     "output_type": "display_data"
    }
   ],
   "source": [
    "plt.plot(comparison['actual'], label = 'actual')\n",
    "plt.plot(comparison['predicted'], label = 'predicted')\n",
    "\n",
    "plt.legend()\n",
    "\n",
    "plt.show()"
   ]
  },
  {
   "cell_type": "code",
   "execution_count": 55,
   "id": "539c27fe",
   "metadata": {},
   "outputs": [],
   "source": [
    "df_result = pd.DataFrame(\n",
    "    {\n",
    "        'model': ['LSTM with one layer'], \n",
    "        'mean_squared_error': mse_3\n",
    "    }\n",
    ")\n",
    "\n",
    "df_results = pd.concat([df_results, df_result], ignore_index=True, axis=0)"
   ]
  },
  {
   "cell_type": "markdown",
   "id": "269422ff",
   "metadata": {},
   "source": [
    "## LSTM with more layers"
   ]
  },
  {
   "cell_type": "code",
   "execution_count": 56,
   "id": "1124d861",
   "metadata": {},
   "outputs": [],
   "source": [
    "model = keras.models.Sequential([\n",
    "    keras.layers.LSTM(20, return_sequences=True, input_shape=[n_steps, n_inputs]),\n",
    "    keras.layers.LSTM(20, return_sequences=True),\n",
    "    keras.layers.LSTM(20),\n",
    "    keras.layers.Dense(1, activation=activation)\n",
    "])"
   ]
  },
  {
   "cell_type": "code",
   "execution_count": 57,
   "id": "cf3ab2bb",
   "metadata": {},
   "outputs": [
    {
     "name": "stdout",
     "output_type": "stream",
     "text": [
      "Model: \"sequential_3\"\n",
      "_________________________________________________________________\n",
      " Layer (type)                Output Shape              Param #   \n",
      "=================================================================\n",
      " lstm_1 (LSTM)               (None, 9, 20)             1760      \n",
      "                                                                 \n",
      " lstm_2 (LSTM)               (None, 9, 20)             3280      \n",
      "                                                                 \n",
      " lstm_3 (LSTM)               (None, 20)                3280      \n",
      "                                                                 \n",
      " dense_3 (Dense)             (None, 1)                 21        \n",
      "                                                                 \n",
      "=================================================================\n",
      "Total params: 8,341\n",
      "Trainable params: 8,341\n",
      "Non-trainable params: 0\n",
      "_________________________________________________________________\n"
     ]
    }
   ],
   "source": [
    "np.random.seed(42)\n",
    "tf.random.set_seed(42)\n",
    "\n",
    "model.compile(\n",
    "    loss=loss, \n",
    "    optimizer=keras.optimizers.Nadam(learning_rate=0.001),\n",
    "    metrics=metrics\n",
    ")\n",
    "\n",
    "model.summary()"
   ]
  },
  {
   "cell_type": "markdown",
   "id": "061eae41",
   "metadata": {},
   "source": [
    "### Calculate the number of paramaters for the model\n"
   ]
  },
  {
   "cell_type": "code",
   "execution_count": 58,
   "id": "f0d94a60",
   "metadata": {},
   "outputs": [
    {
     "name": "stdout",
     "output_type": "stream",
     "text": [
      "Epoch 1/50\n",
      "1/1 [==============================] - 10s 10s/step - loss: 1.2705 - root_mean_squared_error: 0.9639 - val_loss: 0.5667 - val_root_mean_squared_error: 0.7528\n",
      "Epoch 2/50\n",
      "1/1 [==============================] - 0s 84ms/step - loss: 1.2589 - root_mean_squared_error: 1.1220 - val_loss: 0.5590 - val_root_mean_squared_error: 0.7476\n",
      "Epoch 3/50\n",
      "1/1 [==============================] - 0s 85ms/step - loss: 1.2481 - root_mean_squared_error: 1.1172 - val_loss: 0.5509 - val_root_mean_squared_error: 0.7422\n",
      "Epoch 4/50\n",
      "1/1 [==============================] - 0s 83ms/step - loss: 1.2369 - root_mean_squared_error: 1.1121 - val_loss: 0.5425 - val_root_mean_squared_error: 0.7365\n",
      "Epoch 5/50\n",
      "1/1 [==============================] - 0s 80ms/step - loss: 1.2252 - root_mean_squared_error: 1.1069 - val_loss: 0.5338 - val_root_mean_squared_error: 0.7306\n",
      "Epoch 6/50\n",
      "1/1 [==============================] - 0s 81ms/step - loss: 1.2130 - root_mean_squared_error: 1.1014 - val_loss: 0.5247 - val_root_mean_squared_error: 0.7244\n",
      "Epoch 7/50\n",
      "1/1 [==============================] - 0s 81ms/step - loss: 1.2003 - root_mean_squared_error: 1.0956 - val_loss: 0.5152 - val_root_mean_squared_error: 0.7178\n",
      "Epoch 8/50\n",
      "1/1 [==============================] - 0s 85ms/step - loss: 1.1870 - root_mean_squared_error: 1.0895 - val_loss: 0.5053 - val_root_mean_squared_error: 0.7109\n",
      "Epoch 9/50\n",
      "1/1 [==============================] - 0s 82ms/step - loss: 1.1730 - root_mean_squared_error: 1.0830 - val_loss: 0.4950 - val_root_mean_squared_error: 0.7036\n",
      "Epoch 10/50\n",
      "1/1 [==============================] - 0s 86ms/step - loss: 1.1582 - root_mean_squared_error: 1.0762 - val_loss: 0.4842 - val_root_mean_squared_error: 0.6958\n",
      "Epoch 11/50\n",
      "1/1 [==============================] - 0s 80ms/step - loss: 1.1427 - root_mean_squared_error: 1.0690 - val_loss: 0.4728 - val_root_mean_squared_error: 0.6876\n",
      "Epoch 12/50\n",
      "1/1 [==============================] - 0s 84ms/step - loss: 1.1263 - root_mean_squared_error: 1.0613 - val_loss: 0.4608 - val_root_mean_squared_error: 0.6788\n",
      "Epoch 13/50\n",
      "1/1 [==============================] - 0s 84ms/step - loss: 1.1089 - root_mean_squared_error: 1.0530 - val_loss: 0.4483 - val_root_mean_squared_error: 0.6695\n",
      "Epoch 14/50\n",
      "1/1 [==============================] - 0s 84ms/step - loss: 1.0906 - root_mean_squared_error: 1.0443 - val_loss: 0.4352 - val_root_mean_squared_error: 0.6597\n",
      "Epoch 15/50\n",
      "1/1 [==============================] - 0s 79ms/step - loss: 1.0713 - root_mean_squared_error: 1.0350 - val_loss: 0.4214 - val_root_mean_squared_error: 0.6492\n",
      "Epoch 16/50\n",
      "1/1 [==============================] - 0s 77ms/step - loss: 1.0511 - root_mean_squared_error: 1.0252 - val_loss: 0.4071 - val_root_mean_squared_error: 0.6381\n",
      "Epoch 17/50\n",
      "1/1 [==============================] - 0s 80ms/step - loss: 1.0300 - root_mean_squared_error: 1.0149 - val_loss: 0.3923 - val_root_mean_squared_error: 0.6263\n",
      "Epoch 18/50\n",
      "1/1 [==============================] - 0s 80ms/step - loss: 1.0081 - root_mean_squared_error: 1.0040 - val_loss: 0.3770 - val_root_mean_squared_error: 0.6140\n",
      "Epoch 19/50\n",
      "1/1 [==============================] - 0s 78ms/step - loss: 0.9855 - root_mean_squared_error: 0.9927 - val_loss: 0.3613 - val_root_mean_squared_error: 0.6011\n",
      "Epoch 20/50\n",
      "1/1 [==============================] - 0s 82ms/step - loss: 0.9625 - root_mean_squared_error: 0.9811 - val_loss: 0.3454 - val_root_mean_squared_error: 0.5877\n",
      "Epoch 21/50\n",
      "1/1 [==============================] - 0s 82ms/step - loss: 0.9394 - root_mean_squared_error: 0.9692 - val_loss: 0.3295 - val_root_mean_squared_error: 0.5740\n",
      "Epoch 22/50\n",
      "1/1 [==============================] - 0s 74ms/step - loss: 0.9164 - root_mean_squared_error: 0.9573 - val_loss: 0.3136 - val_root_mean_squared_error: 0.5600\n",
      "Epoch 23/50\n",
      "1/1 [==============================] - 0s 80ms/step - loss: 0.8940 - root_mean_squared_error: 0.9455 - val_loss: 0.2983 - val_root_mean_squared_error: 0.5462\n",
      "Epoch 24/50\n",
      "1/1 [==============================] - 0s 80ms/step - loss: 0.8726 - root_mean_squared_error: 0.9341 - val_loss: 0.2837 - val_root_mean_squared_error: 0.5326\n",
      "Epoch 25/50\n",
      "1/1 [==============================] - 0s 79ms/step - loss: 0.8526 - root_mean_squared_error: 0.9234 - val_loss: 0.2701 - val_root_mean_squared_error: 0.5198\n",
      "Epoch 26/50\n",
      "1/1 [==============================] - 0s 79ms/step - loss: 0.8345 - root_mean_squared_error: 0.9135 - val_loss: 0.2581 - val_root_mean_squared_error: 0.5080\n",
      "Epoch 27/50\n",
      "1/1 [==============================] - 0s 79ms/step - loss: 0.8188 - root_mean_squared_error: 0.9049 - val_loss: 0.2477 - val_root_mean_squared_error: 0.4977\n",
      "Epoch 28/50\n",
      "1/1 [==============================] - 0s 84ms/step - loss: 0.8056 - root_mean_squared_error: 0.8976 - val_loss: 0.2393 - val_root_mean_squared_error: 0.4892\n",
      "Epoch 29/50\n",
      "1/1 [==============================] - 0s 76ms/step - loss: 0.7952 - root_mean_squared_error: 0.8917 - val_loss: 0.2330 - val_root_mean_squared_error: 0.4827\n",
      "Epoch 30/50\n",
      "1/1 [==============================] - 0s 80ms/step - loss: 0.7876 - root_mean_squared_error: 0.8874 - val_loss: 0.2289 - val_root_mean_squared_error: 0.4784\n",
      "Epoch 31/50\n",
      "1/1 [==============================] - 0s 70ms/step - loss: 0.7825 - root_mean_squared_error: 0.8846 - val_loss: 0.2269 - val_root_mean_squared_error: 0.4764\n",
      "Epoch 32/50\n",
      "1/1 [==============================] - 0s 81ms/step - loss: 0.7795 - root_mean_squared_error: 0.8829 - val_loss: 0.2269 - val_root_mean_squared_error: 0.4763\n",
      "Epoch 33/50\n",
      "1/1 [==============================] - 0s 82ms/step - loss: 0.7780 - root_mean_squared_error: 0.8821 - val_loss: 0.2284 - val_root_mean_squared_error: 0.4780\n",
      "Epoch 34/50\n",
      "1/1 [==============================] - 0s 86ms/step - loss: 0.7775 - root_mean_squared_error: 0.8818 - val_loss: 0.2312 - val_root_mean_squared_error: 0.4809\n",
      "Epoch 35/50\n",
      "1/1 [==============================] - 0s 78ms/step - loss: 0.7773 - root_mean_squared_error: 0.8817 - val_loss: 0.2349 - val_root_mean_squared_error: 0.4846\n",
      "Epoch 36/50\n",
      "1/1 [==============================] - 0s 82ms/step - loss: 0.7770 - root_mean_squared_error: 0.8815 - val_loss: 0.2389 - val_root_mean_squared_error: 0.4888\n",
      "Epoch 37/50\n",
      "1/1 [==============================] - 0s 76ms/step - loss: 0.7764 - root_mean_squared_error: 0.8811 - val_loss: 0.2431 - val_root_mean_squared_error: 0.4930\n",
      "Epoch 37: early stopping\n"
     ]
    }
   ],
   "source": [
    "import time\n",
    "start_time = time.time()\n",
    "\n",
    "early_stop = EarlyStopping(monitor=monitor, min_delta = 0.0, patience=5, verbose=1, mode='min')\n",
    "\n",
    "history = model.fit(\n",
    "    X_train, \n",
    "    y_train, \n",
    "    epochs=50,\n",
    "    validation_data=(X_test, y_test), \n",
    "    callbacks=[early_stop] # we defined this early_stop callback function earlier\n",
    ")\n",
    "\n",
    "end_time = time.time()"
   ]
  },
  {
   "cell_type": "code",
   "execution_count": 59,
   "id": "6dd817b4",
   "metadata": {},
   "outputs": [
    {
     "data": {
      "image/png": "[encoded data removed]",
      "text/plain": [
       "<Figure size 1080x504 with 2 Axes>"
      ]
     },
     "metadata": {
      "needs_background": "light"
     },
     "output_type": "display_data"
    }
   ],
   "source": [
    "fig, (ax1, ax2) = plt.subplots(1, 2, figsize=(15, 7))\n",
    "fig.suptitle('Deep LSTM Model Evaluation')\n",
    "\n",
    "ax1.set_title('loss')\n",
    "#ax1.set_ylim(0, 100)\n",
    "ax1.plot(history.history['loss'])\n",
    "ax1.plot(history.history['val_loss'])\n",
    "ax1.legend(['train', 'test'], loc='upper left')\n",
    "\n",
    "ax2.set_title('RMSE')\n",
    "#ax2.set_ylim(0, 1)\n",
    "ax2.plot(history.history['root_mean_squared_error'])\n",
    "ax2.plot(history.history['val_root_mean_squared_error'])\n",
    "ax2.legend(['train', 'test'], loc='upper left')\n",
    "\n",
    "plt.show()"
   ]
  },
  {
   "cell_type": "markdown",
   "id": "183ab6ae",
   "metadata": {},
   "source": [
    "### Predictions\n"
   ]
  },
  {
   "cell_type": "code",
   "execution_count": 60,
   "id": "ad21ba86",
   "metadata": {},
   "outputs": [
    {
     "name": "stdout",
     "output_type": "stream",
     "text": [
      "1/1 [==============================] - 2s 2s/step\n"
     ]
    }
   ],
   "source": [
    "#Predict:\n",
    "y_pred = model.predict(X_test)"
   ]
  },
  {
   "cell_type": "code",
   "execution_count": 61,
   "id": "b942f00c",
   "metadata": {},
   "outputs": [],
   "source": [
    "#Remember, these are standardized values. \n",
    "\n",
    "comparison = pd.DataFrame()\n",
    "\n",
    "comparison['actual'] = scaler.inverse_transform([y_test]).flatten()\n",
    "comparison['predicted'] = scaler.inverse_transform(y_pred).flatten()"
   ]
  },
  {
   "cell_type": "code",
   "execution_count": 62,
   "id": "bcab26e3",
   "metadata": {},
   "outputs": [
    {
     "data": {
      "text/plain": [
       "195.18913828902927"
      ]
     },
     "execution_count": 62,
     "metadata": {},
     "output_type": "execute_result"
    }
   ],
   "source": [
    "mse_4=mean_squared_error(comparison['actual'], comparison['predicted'])\n",
    "mse_4"
   ]
  },
  {
   "cell_type": "code",
   "execution_count": 63,
   "id": "fb853537",
   "metadata": {},
   "outputs": [
    {
     "data": {
      "image/png": "[encoded data removed]",
      "text/plain": [
       "<Figure size 432x288 with 1 Axes>"
      ]
     },
     "metadata": {
      "needs_background": "light"
     },
     "output_type": "display_data"
    }
   ],
   "source": [
    "plt.plot(comparison['actual'], label = 'actual')\n",
    "plt.plot(comparison['predicted'], label = 'predicted')\n",
    "\n",
    "plt.legend()\n",
    "\n",
    "plt.show()"
   ]
  },
  {
   "cell_type": "code",
   "execution_count": 64,
   "id": "c9d2b74b",
   "metadata": {},
   "outputs": [],
   "source": [
    "df_result = pd.DataFrame(\n",
    "    {\n",
    "        'model': ['Deep LSTM '], \n",
    "        'mean_squared_error': mse_4\n",
    "    }\n",
    ")\n",
    "\n",
    "df_results = pd.concat([df_results, df_result], ignore_index=True, axis=0)"
   ]
  },
  {
   "cell_type": "markdown",
   "id": "75e5bc7e",
   "metadata": {},
   "source": [
    "## GRU with one layer\n"
   ]
  },
  {
   "cell_type": "code",
   "execution_count": 65,
   "id": "8df3a243",
   "metadata": {},
   "outputs": [],
   "source": [
    "model = keras.models.Sequential([\n",
    "    keras.layers.GRU(15, input_shape=[n_steps, n_inputs]),\n",
    "    keras.layers.Dense(1, activation=activation)\n",
    "])"
   ]
  },
  {
   "cell_type": "code",
   "execution_count": 66,
   "id": "33be58f8",
   "metadata": {},
   "outputs": [
    {
     "name": "stdout",
     "output_type": "stream",
     "text": [
      "Model: \"sequential_4\"\n",
      "_________________________________________________________________\n",
      " Layer (type)                Output Shape              Param #   \n",
      "=================================================================\n",
      " gru (GRU)                   (None, 15)                810       \n",
      "                                                                 \n",
      " dense_4 (Dense)             (None, 1)                 16        \n",
      "                                                                 \n",
      "=================================================================\n",
      "Total params: 826\n",
      "Trainable params: 826\n",
      "Non-trainable params: 0\n",
      "_________________________________________________________________\n"
     ]
    }
   ],
   "source": [
    "model.compile(\n",
    "    loss=loss, \n",
    "    optimizer=keras.optimizers.Nadam(learning_rate=0.001), \n",
    "    metrics=metrics\n",
    ")\n",
    "model.summary()"
   ]
  },
  {
   "cell_type": "markdown",
   "id": "c14d246c",
   "metadata": {},
   "source": [
    "### Calculate the number of paramaters for the model"
   ]
  },
  {
   "cell_type": "code",
   "execution_count": 67,
   "id": "5801e4bf",
   "metadata": {},
   "outputs": [
    {
     "name": "stdout",
     "output_type": "stream",
     "text": [
      "Epoch 1/50\n",
      "1/1 [==============================] - 4s 4s/step - loss: 0.6642 - root_mean_squared_error: 0.7276 - val_loss: 0.2648 - val_root_mean_squared_error: 0.5146\n",
      "Epoch 2/50\n",
      "1/1 [==============================] - 0s 63ms/step - loss: 0.6489 - root_mean_squared_error: 0.8055 - val_loss: 0.2592 - val_root_mean_squared_error: 0.5091\n",
      "Epoch 3/50\n",
      "1/1 [==============================] - 0s 67ms/step - loss: 0.6378 - root_mean_squared_error: 0.7986 - val_loss: 0.2536 - val_root_mean_squared_error: 0.5036\n",
      "Epoch 4/50\n",
      "1/1 [==============================] - 0s 63ms/step - loss: 0.6264 - root_mean_squared_error: 0.7915 - val_loss: 0.2480 - val_root_mean_squared_error: 0.4979\n",
      "Epoch 5/50\n",
      "1/1 [==============================] - 0s 66ms/step - loss: 0.6147 - root_mean_squared_error: 0.7841 - val_loss: 0.2423 - val_root_mean_squared_error: 0.4922\n",
      "Epoch 6/50\n",
      "1/1 [==============================] - 0s 69ms/step - loss: 0.6029 - root_mean_squared_error: 0.7764 - val_loss: 0.2366 - val_root_mean_squared_error: 0.4864\n",
      "Epoch 7/50\n",
      "1/1 [==============================] - 0s 66ms/step - loss: 0.5908 - root_mean_squared_error: 0.7686 - val_loss: 0.2310 - val_root_mean_squared_error: 0.4806\n",
      "Epoch 8/50\n",
      "1/1 [==============================] - 0s 69ms/step - loss: 0.5786 - root_mean_squared_error: 0.7606 - val_loss: 0.2254 - val_root_mean_squared_error: 0.4748\n",
      "Epoch 9/50\n",
      "1/1 [==============================] - 0s 64ms/step - loss: 0.5663 - root_mean_squared_error: 0.7525 - val_loss: 0.2199 - val_root_mean_squared_error: 0.4690\n",
      "Epoch 10/50\n",
      "1/1 [==============================] - 0s 67ms/step - loss: 0.5539 - root_mean_squared_error: 0.7442 - val_loss: 0.2145 - val_root_mean_squared_error: 0.4632\n",
      "Epoch 11/50\n",
      "1/1 [==============================] - 0s 62ms/step - loss: 0.5415 - root_mean_squared_error: 0.7358 - val_loss: 0.2093 - val_root_mean_squared_error: 0.4575\n",
      "Epoch 12/50\n",
      "1/1 [==============================] - 0s 67ms/step - loss: 0.5290 - root_mean_squared_error: 0.7274 - val_loss: 0.2042 - val_root_mean_squared_error: 0.4519\n",
      "Epoch 13/50\n",
      "1/1 [==============================] - 0s 64ms/step - loss: 0.5167 - root_mean_squared_error: 0.7188 - val_loss: 0.1992 - val_root_mean_squared_error: 0.4463\n",
      "Epoch 14/50\n",
      "1/1 [==============================] - 0s 63ms/step - loss: 0.5044 - root_mean_squared_error: 0.7102 - val_loss: 0.1944 - val_root_mean_squared_error: 0.4409\n",
      "Epoch 15/50\n",
      "1/1 [==============================] - 0s 72ms/step - loss: 0.4922 - root_mean_squared_error: 0.7016 - val_loss: 0.1898 - val_root_mean_squared_error: 0.4356\n",
      "Epoch 16/50\n",
      "1/1 [==============================] - 0s 64ms/step - loss: 0.4801 - root_mean_squared_error: 0.6929 - val_loss: 0.1854 - val_root_mean_squared_error: 0.4305\n",
      "Epoch 17/50\n",
      "1/1 [==============================] - 0s 69ms/step - loss: 0.4682 - root_mean_squared_error: 0.6843 - val_loss: 0.1811 - val_root_mean_squared_error: 0.4256\n",
      "Epoch 18/50\n",
      "1/1 [==============================] - 0s 63ms/step - loss: 0.4565 - root_mean_squared_error: 0.6757 - val_loss: 0.1771 - val_root_mean_squared_error: 0.4208\n",
      "Epoch 19/50\n",
      "1/1 [==============================] - 0s 61ms/step - loss: 0.4450 - root_mean_squared_error: 0.6671 - val_loss: 0.1733 - val_root_mean_squared_error: 0.4163\n",
      "Epoch 20/50\n",
      "1/1 [==============================] - 0s 62ms/step - loss: 0.4337 - root_mean_squared_error: 0.6585 - val_loss: 0.1697 - val_root_mean_squared_error: 0.4119\n",
      "Epoch 21/50\n",
      "1/1 [==============================] - 0s 63ms/step - loss: 0.4226 - root_mean_squared_error: 0.6501 - val_loss: 0.1663 - val_root_mean_squared_error: 0.4078\n",
      "Epoch 22/50\n",
      "1/1 [==============================] - 0s 64ms/step - loss: 0.4118 - root_mean_squared_error: 0.6417 - val_loss: 0.1631 - val_root_mean_squared_error: 0.4038\n",
      "Epoch 23/50\n",
      "1/1 [==============================] - 0s 63ms/step - loss: 0.4012 - root_mean_squared_error: 0.6334 - val_loss: 0.1601 - val_root_mean_squared_error: 0.4002\n",
      "Epoch 24/50\n",
      "1/1 [==============================] - 0s 67ms/step - loss: 0.3909 - root_mean_squared_error: 0.6252 - val_loss: 0.1574 - val_root_mean_squared_error: 0.3968\n",
      "Epoch 25/50\n",
      "1/1 [==============================] - 0s 61ms/step - loss: 0.3809 - root_mean_squared_error: 0.6172 - val_loss: 0.1549 - val_root_mean_squared_error: 0.3936\n",
      "Epoch 26/50\n",
      "1/1 [==============================] - 0s 69ms/step - loss: 0.3712 - root_mean_squared_error: 0.6093 - val_loss: 0.1526 - val_root_mean_squared_error: 0.3907\n",
      "Epoch 27/50\n",
      "1/1 [==============================] - 0s 63ms/step - loss: 0.3618 - root_mean_squared_error: 0.6015 - val_loss: 0.1506 - val_root_mean_squared_error: 0.3881\n",
      "Epoch 28/50\n",
      "1/1 [==============================] - 0s 63ms/step - loss: 0.3527 - root_mean_squared_error: 0.5939 - val_loss: 0.1488 - val_root_mean_squared_error: 0.3858\n",
      "Epoch 29/50\n",
      "1/1 [==============================] - 0s 67ms/step - loss: 0.3439 - root_mean_squared_error: 0.5864 - val_loss: 0.1472 - val_root_mean_squared_error: 0.3837\n",
      "Epoch 30/50\n",
      "1/1 [==============================] - 0s 59ms/step - loss: 0.3354 - root_mean_squared_error: 0.5791 - val_loss: 0.1459 - val_root_mean_squared_error: 0.3820\n",
      "Epoch 31/50\n",
      "1/1 [==============================] - 0s 64ms/step - loss: 0.3272 - root_mean_squared_error: 0.5720 - val_loss: 0.1448 - val_root_mean_squared_error: 0.3805\n",
      "Epoch 32/50\n",
      "1/1 [==============================] - 0s 62ms/step - loss: 0.3193 - root_mean_squared_error: 0.5651 - val_loss: 0.1439 - val_root_mean_squared_error: 0.3793\n",
      "Epoch 33/50\n",
      "1/1 [==============================] - 0s 61ms/step - loss: 0.3118 - root_mean_squared_error: 0.5584 - val_loss: 0.1432 - val_root_mean_squared_error: 0.3785\n",
      "Epoch 34/50\n",
      "1/1 [==============================] - 0s 67ms/step - loss: 0.3046 - root_mean_squared_error: 0.5519 - val_loss: 0.1428 - val_root_mean_squared_error: 0.3779\n",
      "Epoch 35/50\n",
      "1/1 [==============================] - 0s 66ms/step - loss: 0.2976 - root_mean_squared_error: 0.5455 - val_loss: 0.1426 - val_root_mean_squared_error: 0.3776\n",
      "Epoch 36/50\n",
      "1/1 [==============================] - 0s 68ms/step - loss: 0.2910 - root_mean_squared_error: 0.5394 - val_loss: 0.1426 - val_root_mean_squared_error: 0.3776\n",
      "Epoch 37/50\n",
      "1/1 [==============================] - 0s 65ms/step - loss: 0.2847 - root_mean_squared_error: 0.5336 - val_loss: 0.1428 - val_root_mean_squared_error: 0.3778\n",
      "Epoch 38/50\n",
      "1/1 [==============================] - 0s 68ms/step - loss: 0.2787 - root_mean_squared_error: 0.5279 - val_loss: 0.1432 - val_root_mean_squared_error: 0.3784\n",
      "Epoch 39/50\n",
      "1/1 [==============================] - 0s 68ms/step - loss: 0.2729 - root_mean_squared_error: 0.5224 - val_loss: 0.1437 - val_root_mean_squared_error: 0.3791\n",
      "Epoch 40/50\n",
      "1/1 [==============================] - 0s 69ms/step - loss: 0.2675 - root_mean_squared_error: 0.5172 - val_loss: 0.1445 - val_root_mean_squared_error: 0.3801\n",
      "Epoch 41/50\n",
      "1/1 [==============================] - 0s 67ms/step - loss: 0.2623 - root_mean_squared_error: 0.5122 - val_loss: 0.1454 - val_root_mean_squared_error: 0.3813\n",
      "Epoch 41: early stopping\n"
     ]
    }
   ],
   "source": [
    "import time\n",
    "start_time = time.time()\n",
    "\n",
    "early_stop = EarlyStopping(monitor=monitor, min_delta = 0.0, patience=5, verbose=1, mode='min')\n",
    "\n",
    "history = model.fit(\n",
    "    X_train, \n",
    "    y_train, \n",
    "    epochs=50,\n",
    "    validation_data=(X_test, y_test),\n",
    "    callbacks=[early_stop] # we defined this early_stop callback function earlier\n",
    ")\n",
    "\n",
    "end_time = time.time()"
   ]
  },
  {
   "cell_type": "code",
   "execution_count": 68,
   "id": "0fc496a2",
   "metadata": {},
   "outputs": [
    {
     "data": {
      "image/png": "[encoded data removed]",
      "text/plain": [
       "<Figure size 1080x504 with 2 Axes>"
      ]
     },
     "metadata": {
      "needs_background": "light"
     },
     "output_type": "display_data"
    }
   ],
   "source": [
    "fig, (ax1, ax2) = plt.subplots(1, 2, figsize=(15, 7))\n",
    "fig.suptitle('GRU Model Evaluation')\n",
    "\n",
    "ax1.set_title('loss')\n",
    "#ax1.set_ylim(0, 100)\n",
    "ax1.plot(history.history['loss'])\n",
    "ax1.plot(history.history['val_loss'])\n",
    "ax1.legend(['train', 'test'], loc='upper left')\n",
    "\n",
    "ax2.set_title('RMSE')\n",
    "#ax2.set_ylim(0, 1)\n",
    "ax2.plot(history.history['root_mean_squared_error'])\n",
    "ax2.plot(history.history['val_root_mean_squared_error'])\n",
    "ax2.legend(['train', 'test'], loc='upper left')\n",
    "\n",
    "plt.show()"
   ]
  },
  {
   "cell_type": "markdown",
   "id": "11e727e9",
   "metadata": {},
   "source": [
    "### Predictions\n"
   ]
  },
  {
   "cell_type": "code",
   "execution_count": 69,
   "id": "afc176ec",
   "metadata": {},
   "outputs": [
    {
     "name": "stdout",
     "output_type": "stream",
     "text": [
      "WARNING:tensorflow:5 out of the last 5 calls to <function Model.make_predict_function.<locals>.predict_function at 0x00000157B50BD670> triggered tf.function retracing. Tracing is expensive and the excessive number of tracings could be due to (1) creating @tf.function repeatedly in a loop, (2) passing tensors with different shapes, (3) passing Python objects instead of tensors. For (1), please define your @tf.function outside of the loop. For (2), @tf.function has reduce_retracing=True option that can avoid unnecessary retracing. For (3), please refer to https://www.tensorflow.org/guide/function#controlling_retracing and https://www.tensorflow.org/api_docs/python/tf/function for  more details.\n",
      "1/1 [==============================] - 1s 524ms/step\n"
     ]
    }
   ],
   "source": [
    "#Predict:\n",
    "y_pred = model.predict(X_test)"
   ]
  },
  {
   "cell_type": "code",
   "execution_count": 70,
   "id": "ebd60fcc",
   "metadata": {},
   "outputs": [],
   "source": [
    "#Remember, these are standardized values. \n",
    "\n",
    "comparison = pd.DataFrame()\n",
    "\n",
    "comparison['actual'] = scaler.inverse_transform([y_test]).flatten()\n",
    "comparison['predicted'] = scaler.inverse_transform(y_pred).flatten()"
   ]
  },
  {
   "cell_type": "code",
   "execution_count": 71,
   "id": "9ddc0c73",
   "metadata": {},
   "outputs": [
    {
     "data": {
      "text/plain": [
       "116.74729940279065"
      ]
     },
     "execution_count": 71,
     "metadata": {},
     "output_type": "execute_result"
    }
   ],
   "source": [
    "mse_5=mean_squared_error(comparison['actual'], comparison['predicted'])\n",
    "mse_5"
   ]
  },
  {
   "cell_type": "code",
   "execution_count": 72,
   "id": "2c236dae",
   "metadata": {},
   "outputs": [
    {
     "data": {
      "image/png": "[encoded data removed]",
      "text/plain": [
       "<Figure size 432x288 with 1 Axes>"
      ]
     },
     "metadata": {
      "needs_background": "light"
     },
     "output_type": "display_data"
    }
   ],
   "source": [
    "plt.plot(comparison['actual'], label = 'actual')\n",
    "plt.plot(comparison['predicted'], label = 'predicted')\n",
    "\n",
    "plt.legend()\n",
    "\n",
    "plt.show()"
   ]
  },
  {
   "cell_type": "code",
   "execution_count": 73,
   "id": "fd360160",
   "metadata": {},
   "outputs": [],
   "source": [
    "df_result = pd.DataFrame(\n",
    "    {\n",
    "        'model': ['Gru with one layer'], \n",
    "        'mean_squared_error': mse_5\n",
    "    }\n",
    ")\n",
    "\n",
    "df_results = pd.concat([df_results, df_result], ignore_index=True, axis=0)"
   ]
  },
  {
   "cell_type": "markdown",
   "id": "4a3542d1",
   "metadata": {},
   "source": [
    "## GRU with more layers\n"
   ]
  },
  {
   "cell_type": "code",
   "execution_count": 74,
   "id": "a2ef1119",
   "metadata": {},
   "outputs": [],
   "source": [
    "model = keras.models.Sequential([\n",
    "    keras.layers.GRU(10, return_sequences=True, input_shape=[n_steps, n_inputs]),\n",
    "    keras.layers.GRU(10, return_sequences=True),\n",
    "    keras.layers.GRU(10),\n",
    "    keras.layers.Dense(1, activation=activation)\n",
    "])"
   ]
  },
  {
   "cell_type": "code",
   "execution_count": 75,
   "id": "3cc14e35",
   "metadata": {},
   "outputs": [
    {
     "name": "stdout",
     "output_type": "stream",
     "text": [
      "Model: \"sequential_5\"\n",
      "_________________________________________________________________\n",
      " Layer (type)                Output Shape              Param #   \n",
      "=================================================================\n",
      " gru_1 (GRU)                 (None, 9, 10)             390       \n",
      "                                                                 \n",
      " gru_2 (GRU)                 (None, 9, 10)             660       \n",
      "                                                                 \n",
      " gru_3 (GRU)                 (None, 10)                660       \n",
      "                                                                 \n",
      " dense_5 (Dense)             (None, 1)                 11        \n",
      "                                                                 \n",
      "=================================================================\n",
      "Total params: 1,721\n",
      "Trainable params: 1,721\n",
      "Non-trainable params: 0\n",
      "_________________________________________________________________\n"
     ]
    }
   ],
   "source": [
    "model.compile(\n",
    "    loss=loss, \n",
    "    optimizer=keras.optimizers.Nadam(learning_rate=0.001), \n",
    "    metrics=metrics\n",
    ")\n",
    "model.summary()"
   ]
  },
  {
   "cell_type": "markdown",
   "id": "d3689643",
   "metadata": {},
   "source": [
    "### Calculate the number of paramaters for the model"
   ]
  },
  {
   "cell_type": "code",
   "execution_count": 76,
   "id": "18f68294",
   "metadata": {},
   "outputs": [
    {
     "name": "stdout",
     "output_type": "stream",
     "text": [
      "Epoch 1/50\n",
      "1/1 [==============================] - 10s 10s/step - loss: 1.2732 - root_mean_squared_error: 0.9551 - val_loss: 0.5932 - val_root_mean_squared_error: 0.7702\n",
      "Epoch 2/50\n",
      "1/1 [==============================] - 0s 86ms/step - loss: 1.2571 - root_mean_squared_error: 1.1212 - val_loss: 0.5826 - val_root_mean_squared_error: 0.7633\n",
      "Epoch 3/50\n",
      "1/1 [==============================] - 0s 81ms/step - loss: 1.2429 - root_mean_squared_error: 1.1148 - val_loss: 0.5718 - val_root_mean_squared_error: 0.7562\n",
      "Epoch 4/50\n",
      "1/1 [==============================] - 0s 87ms/step - loss: 1.2281 - root_mean_squared_error: 1.1082 - val_loss: 0.5608 - val_root_mean_squared_error: 0.7489\n",
      "Epoch 5/50\n",
      "1/1 [==============================] - 0s 86ms/step - loss: 1.2129 - root_mean_squared_error: 1.1013 - val_loss: 0.5496 - val_root_mean_squared_error: 0.7413\n",
      "Epoch 6/50\n",
      "1/1 [==============================] - 0s 90ms/step - loss: 1.1970 - root_mean_squared_error: 1.0941 - val_loss: 0.5381 - val_root_mean_squared_error: 0.7335\n",
      "Epoch 7/50\n",
      "1/1 [==============================] - 0s 85ms/step - loss: 1.1806 - root_mean_squared_error: 1.0866 - val_loss: 0.5264 - val_root_mean_squared_error: 0.7255\n",
      "Epoch 8/50\n",
      "1/1 [==============================] - 0s 84ms/step - loss: 1.1637 - root_mean_squared_error: 1.0787 - val_loss: 0.5145 - val_root_mean_squared_error: 0.7173\n",
      "Epoch 9/50\n",
      "1/1 [==============================] - 0s 87ms/step - loss: 1.1462 - root_mean_squared_error: 1.0706 - val_loss: 0.5024 - val_root_mean_squared_error: 0.7088\n",
      "Epoch 10/50\n",
      "1/1 [==============================] - 0s 88ms/step - loss: 1.1283 - root_mean_squared_error: 1.0622 - val_loss: 0.4901 - val_root_mean_squared_error: 0.7001\n",
      "Epoch 11/50\n",
      "1/1 [==============================] - 0s 88ms/step - loss: 1.1099 - root_mean_squared_error: 1.0535 - val_loss: 0.4777 - val_root_mean_squared_error: 0.6911\n",
      "Epoch 12/50\n",
      "1/1 [==============================] - 0s 88ms/step - loss: 1.0910 - root_mean_squared_error: 1.0445 - val_loss: 0.4650 - val_root_mean_squared_error: 0.6819\n",
      "Epoch 13/50\n",
      "1/1 [==============================] - 0s 89ms/step - loss: 1.0716 - root_mean_squared_error: 1.0352 - val_loss: 0.4522 - val_root_mean_squared_error: 0.6725\n",
      "Epoch 14/50\n",
      "1/1 [==============================] - 0s 85ms/step - loss: 1.0518 - root_mean_squared_error: 1.0256 - val_loss: 0.4393 - val_root_mean_squared_error: 0.6628\n",
      "Epoch 15/50\n",
      "1/1 [==============================] - 0s 79ms/step - loss: 1.0317 - root_mean_squared_error: 1.0157 - val_loss: 0.4263 - val_root_mean_squared_error: 0.6529\n",
      "Epoch 16/50\n",
      "1/1 [==============================] - 0s 81ms/step - loss: 1.0111 - root_mean_squared_error: 1.0055 - val_loss: 0.4131 - val_root_mean_squared_error: 0.6427\n",
      "Epoch 17/50\n",
      "1/1 [==============================] - 0s 86ms/step - loss: 0.9902 - root_mean_squared_error: 0.9951 - val_loss: 0.3999 - val_root_mean_squared_error: 0.6324\n",
      "Epoch 18/50\n",
      "1/1 [==============================] - 0s 87ms/step - loss: 0.9691 - root_mean_squared_error: 0.9844 - val_loss: 0.3867 - val_root_mean_squared_error: 0.6218\n",
      "Epoch 19/50\n",
      "1/1 [==============================] - 0s 86ms/step - loss: 0.9476 - root_mean_squared_error: 0.9734 - val_loss: 0.3734 - val_root_mean_squared_error: 0.6111\n",
      "Epoch 20/50\n",
      "1/1 [==============================] - 0s 87ms/step - loss: 0.9259 - root_mean_squared_error: 0.9622 - val_loss: 0.3602 - val_root_mean_squared_error: 0.6002\n",
      "Epoch 21/50\n",
      "1/1 [==============================] - 0s 91ms/step - loss: 0.9040 - root_mean_squared_error: 0.9508 - val_loss: 0.3472 - val_root_mean_squared_error: 0.5892\n",
      "Epoch 22/50\n",
      "1/1 [==============================] - 0s 82ms/step - loss: 0.8820 - root_mean_squared_error: 0.9392 - val_loss: 0.3342 - val_root_mean_squared_error: 0.5781\n",
      "Epoch 23/50\n",
      "1/1 [==============================] - 0s 85ms/step - loss: 0.8599 - root_mean_squared_error: 0.9273 - val_loss: 0.3215 - val_root_mean_squared_error: 0.5670\n",
      "Epoch 24/50\n",
      "1/1 [==============================] - 0s 86ms/step - loss: 0.8378 - root_mean_squared_error: 0.9153 - val_loss: 0.3090 - val_root_mean_squared_error: 0.5558\n",
      "Epoch 25/50\n",
      "1/1 [==============================] - 0s 84ms/step - loss: 0.8157 - root_mean_squared_error: 0.9032 - val_loss: 0.2968 - val_root_mean_squared_error: 0.5448\n",
      "Epoch 26/50\n",
      "1/1 [==============================] - 0s 86ms/step - loss: 0.7937 - root_mean_squared_error: 0.8909 - val_loss: 0.2850 - val_root_mean_squared_error: 0.5338\n",
      "Epoch 27/50\n",
      "1/1 [==============================] - 0s 82ms/step - loss: 0.7719 - root_mean_squared_error: 0.8786 - val_loss: 0.2736 - val_root_mean_squared_error: 0.5231\n",
      "Epoch 28/50\n",
      "1/1 [==============================] - 0s 83ms/step - loss: 0.7503 - root_mean_squared_error: 0.8662 - val_loss: 0.2627 - val_root_mean_squared_error: 0.5125\n",
      "Epoch 29/50\n",
      "1/1 [==============================] - 0s 84ms/step - loss: 0.7291 - root_mean_squared_error: 0.8539 - val_loss: 0.2524 - val_root_mean_squared_error: 0.5024\n",
      "Epoch 30/50\n",
      "1/1 [==============================] - 0s 86ms/step - loss: 0.7083 - root_mean_squared_error: 0.8416 - val_loss: 0.2427 - val_root_mean_squared_error: 0.4927\n",
      "Epoch 31/50\n",
      "1/1 [==============================] - 0s 88ms/step - loss: 0.6880 - root_mean_squared_error: 0.8294 - val_loss: 0.2337 - val_root_mean_squared_error: 0.4835\n",
      "Epoch 32/50\n",
      "1/1 [==============================] - 0s 83ms/step - loss: 0.6683 - root_mean_squared_error: 0.8175 - val_loss: 0.2255 - val_root_mean_squared_error: 0.4749\n",
      "Epoch 33/50\n",
      "1/1 [==============================] - 0s 84ms/step - loss: 0.6493 - root_mean_squared_error: 0.8058 - val_loss: 0.2181 - val_root_mean_squared_error: 0.4670\n",
      "Epoch 34/50\n",
      "1/1 [==============================] - 0s 88ms/step - loss: 0.6311 - root_mean_squared_error: 0.7944 - val_loss: 0.2116 - val_root_mean_squared_error: 0.4600\n",
      "Epoch 35/50\n",
      "1/1 [==============================] - 0s 85ms/step - loss: 0.6138 - root_mean_squared_error: 0.7834 - val_loss: 0.2060 - val_root_mean_squared_error: 0.4539\n",
      "Epoch 36/50\n",
      "1/1 [==============================] - 0s 85ms/step - loss: 0.5974 - root_mean_squared_error: 0.7729 - val_loss: 0.2014 - val_root_mean_squared_error: 0.4488\n",
      "Epoch 37/50\n",
      "1/1 [==============================] - 0s 82ms/step - loss: 0.5821 - root_mean_squared_error: 0.7630 - val_loss: 0.1978 - val_root_mean_squared_error: 0.4448\n",
      "Epoch 38/50\n",
      "1/1 [==============================] - 0s 78ms/step - loss: 0.5679 - root_mean_squared_error: 0.7536 - val_loss: 0.1952 - val_root_mean_squared_error: 0.4418\n",
      "Epoch 39/50\n",
      "1/1 [==============================] - 0s 85ms/step - loss: 0.5548 - root_mean_squared_error: 0.7449 - val_loss: 0.1936 - val_root_mean_squared_error: 0.4401\n",
      "Epoch 40/50\n",
      "1/1 [==============================] - 0s 77ms/step - loss: 0.5430 - root_mean_squared_error: 0.7369 - val_loss: 0.1931 - val_root_mean_squared_error: 0.4394\n",
      "Epoch 41/50\n",
      "1/1 [==============================] - 0s 71ms/step - loss: 0.5323 - root_mean_squared_error: 0.7296 - val_loss: 0.1935 - val_root_mean_squared_error: 0.4399\n",
      "Epoch 42/50\n",
      "1/1 [==============================] - 0s 75ms/step - loss: 0.5228 - root_mean_squared_error: 0.7230 - val_loss: 0.1948 - val_root_mean_squared_error: 0.4414\n",
      "Epoch 43/50\n",
      "1/1 [==============================] - 0s 85ms/step - loss: 0.5144 - root_mean_squared_error: 0.7172 - val_loss: 0.1969 - val_root_mean_squared_error: 0.4438\n",
      "Epoch 44/50\n",
      "1/1 [==============================] - 0s 84ms/step - loss: 0.5071 - root_mean_squared_error: 0.7121 - val_loss: 0.1997 - val_root_mean_squared_error: 0.4469\n",
      "Epoch 45/50\n",
      "1/1 [==============================] - 0s 90ms/step - loss: 0.5008 - root_mean_squared_error: 0.7077 - val_loss: 0.2030 - val_root_mean_squared_error: 0.4506\n",
      "Epoch 45: early stopping\n"
     ]
    }
   ],
   "source": [
    "import time\n",
    "start_time = time.time()\n",
    "\n",
    "early_stop = EarlyStopping(monitor=monitor, min_delta = 0.0, patience=5, verbose=1, mode='min')\n",
    "\n",
    "history = model.fit(\n",
    "    X_train, \n",
    "    y_train, \n",
    "    epochs=50,\n",
    "    validation_data=(X_test, y_test),\n",
    "    callbacks=[early_stop] # we defined this early_stop callback function earlier\n",
    ")\n",
    "\n",
    "end_time = time.time()"
   ]
  },
  {
   "cell_type": "code",
   "execution_count": 77,
   "id": "3b01e757",
   "metadata": {},
   "outputs": [
    {
     "data": {
      "image/png": "[encoded data removed]",
      "text/plain": [
       "<Figure size 1080x504 with 2 Axes>"
      ]
     },
     "metadata": {
      "needs_background": "light"
     },
     "output_type": "display_data"
    }
   ],
   "source": [
    "fig, (ax1, ax2) = plt.subplots(1, 2, figsize=(15, 7))\n",
    "fig.suptitle('Deep GRU Model Evaluation')\n",
    "\n",
    "ax1.set_title('loss')\n",
    "#ax1.set_ylim(0, 100)\n",
    "ax1.plot(history.history['loss'])\n",
    "ax1.plot(history.history['val_loss'])\n",
    "ax1.legend(['train', 'test'], loc='upper left')\n",
    "\n",
    "ax2.set_title('RMSE')\n",
    "#ax2.set_ylim(0, 1)\n",
    "ax2.plot(history.history['root_mean_squared_error'])\n",
    "ax2.plot(history.history['val_root_mean_squared_error'])\n",
    "ax2.legend(['train', 'test'], loc='upper left')\n",
    "\n",
    "plt.show()"
   ]
  },
  {
   "cell_type": "markdown",
   "id": "666f413a",
   "metadata": {},
   "source": [
    "### Predictions"
   ]
  },
  {
   "cell_type": "code",
   "execution_count": 78,
   "id": "84f25433",
   "metadata": {},
   "outputs": [
    {
     "name": "stdout",
     "output_type": "stream",
     "text": [
      "WARNING:tensorflow:6 out of the last 6 calls to <function Model.make_predict_function.<locals>.predict_function at 0x00000157C69934C0> triggered tf.function retracing. Tracing is expensive and the excessive number of tracings could be due to (1) creating @tf.function repeatedly in a loop, (2) passing tensors with different shapes, (3) passing Python objects instead of tensors. For (1), please define your @tf.function outside of the loop. For (2), @tf.function has reduce_retracing=True option that can avoid unnecessary retracing. For (3), please refer to https://www.tensorflow.org/guide/function#controlling_retracing and https://www.tensorflow.org/api_docs/python/tf/function for  more details.\n",
      "1/1 [==============================] - 1s 1s/step\n"
     ]
    }
   ],
   "source": [
    "#Predict:\n",
    "y_pred = model.predict(X_test)"
   ]
  },
  {
   "cell_type": "code",
   "execution_count": 79,
   "id": "b043403a",
   "metadata": {},
   "outputs": [],
   "source": [
    "#Remember, these are standardized values. \n",
    "\n",
    "comparison = pd.DataFrame()\n",
    "\n",
    "comparison['actual'] = scaler.inverse_transform([y_test]).flatten()\n",
    "comparison['predicted'] = scaler.inverse_transform(y_pred).flatten()"
   ]
  },
  {
   "cell_type": "code",
   "execution_count": 80,
   "id": "1c55972b",
   "metadata": {},
   "outputs": [
    {
     "data": {
      "text/plain": [
       "163.03548242082456"
      ]
     },
     "execution_count": 80,
     "metadata": {},
     "output_type": "execute_result"
    }
   ],
   "source": [
    "mse_6=mean_squared_error(comparison['actual'], comparison['predicted'])\n",
    "mse_6"
   ]
  },
  {
   "cell_type": "code",
   "execution_count": 81,
   "id": "aaa4806f",
   "metadata": {},
   "outputs": [
    {
     "data": {
      "image/png": "[encoded data removed]",
      "text/plain": [
       "<Figure size 432x288 with 1 Axes>"
      ]
     },
     "metadata": {
      "needs_background": "light"
     },
     "output_type": "display_data"
    }
   ],
   "source": [
    "plt.plot(comparison['actual'], label = 'actual')\n",
    "plt.plot(comparison['predicted'], label = 'predicted')\n",
    "\n",
    "plt.legend()\n",
    "\n",
    "plt.show()"
   ]
  },
  {
   "cell_type": "code",
   "execution_count": 82,
   "id": "1fa730b8",
   "metadata": {},
   "outputs": [],
   "source": [
    "df_result = pd.DataFrame(\n",
    "    {\n",
    "        'model': ['Deep GRU'], \n",
    "        'mean_squared_error': mse_6\n",
    "    }\n",
    ")\n",
    "\n",
    "df_results = pd.concat([df_results, df_result], ignore_index=True, axis=0)"
   ]
  },
  {
   "cell_type": "markdown",
   "id": "3ef771a6",
   "metadata": {},
   "source": [
    "## Conv1D"
   ]
  },
  {
   "cell_type": "code",
   "execution_count": 83,
   "id": "20d2c7d1",
   "metadata": {},
   "outputs": [
    {
     "name": "stdout",
     "output_type": "stream",
     "text": [
      "Model: \"sequential_6\"\n",
      "_________________________________________________________________\n",
      " Layer (type)                Output Shape              Param #   \n",
      "=================================================================\n",
      " conv1d (Conv1D)             (None, 7, 10)             40        \n",
      "                                                                 \n",
      " conv1d_1 (Conv1D)           (None, 5, 15)             465       \n",
      "                                                                 \n",
      " lstm_4 (LSTM)               (None, 5, 10)             1040      \n",
      "                                                                 \n",
      " lstm_5 (LSTM)               (None, 32)                5504      \n",
      "                                                                 \n",
      " dense_6 (Dense)             (None, 1)                 33        \n",
      "                                                                 \n",
      "=================================================================\n",
      "Total params: 7,082\n",
      "Trainable params: 7,082\n",
      "Non-trainable params: 0\n",
      "_________________________________________________________________\n"
     ]
    }
   ],
   "source": [
    "model = keras.models.Sequential([\n",
    "    keras.layers.Conv1D(filters=10, kernel_size=3, strides=1, padding=\"valid\", input_shape=[n_steps, n_inputs]),\n",
    "    keras.layers.Conv1D(filters=15, kernel_size=3, strides=1, padding=\"valid\"),\n",
    "    keras.layers.LSTM(10, return_sequences=True),\n",
    "    keras.layers.LSTM(32),\n",
    "    keras.layers.Dense(1, activation=activation)\n",
    "])\n",
    "\n",
    "model.summary()"
   ]
  },
  {
   "cell_type": "code",
   "execution_count": 84,
   "id": "c5994fb4",
   "metadata": {},
   "outputs": [],
   "source": [
    "model.compile(\n",
    "    loss=loss, \n",
    "    optimizer=keras.optimizers.Nadam(learning_rate=0.010), \n",
    "    metrics=metrics\n",
    ")"
   ]
  },
  {
   "cell_type": "code",
   "execution_count": 85,
   "id": "a5498863",
   "metadata": {},
   "outputs": [
    {
     "name": "stdout",
     "output_type": "stream",
     "text": [
      "Epoch 1/50\n",
      "1/1 [==============================] - 9s 9s/step - loss: 1.2748 - root_mean_squared_error: 0.9653 - val_loss: 0.4647 - val_root_mean_squared_error: 0.6817\n",
      "Epoch 2/50\n",
      "1/1 [==============================] - 0s 69ms/step - loss: 1.1044 - root_mean_squared_error: 1.0509 - val_loss: 0.3578 - val_root_mean_squared_error: 0.5982\n",
      "Epoch 3/50\n",
      "1/1 [==============================] - 0s 78ms/step - loss: 0.9492 - root_mean_squared_error: 0.9743 - val_loss: 0.2617 - val_root_mean_squared_error: 0.5116\n",
      "Epoch 4/50\n",
      "1/1 [==============================] - 0s 73ms/step - loss: 0.7974 - root_mean_squared_error: 0.8930 - val_loss: 0.2183 - val_root_mean_squared_error: 0.4673\n",
      "Epoch 5/50\n",
      "1/1 [==============================] - 0s 75ms/step - loss: 0.7072 - root_mean_squared_error: 0.8410 - val_loss: 0.2525 - val_root_mean_squared_error: 0.5025\n",
      "Epoch 6/50\n",
      "1/1 [==============================] - 0s 76ms/step - loss: 0.6785 - root_mean_squared_error: 0.8237 - val_loss: 0.2727 - val_root_mean_squared_error: 0.5222\n",
      "Epoch 7/50\n",
      "1/1 [==============================] - 0s 76ms/step - loss: 0.6568 - root_mean_squared_error: 0.8104 - val_loss: 0.2775 - val_root_mean_squared_error: 0.5268\n",
      "Epoch 8/50\n",
      "1/1 [==============================] - 0s 68ms/step - loss: 0.6287 - root_mean_squared_error: 0.7929 - val_loss: 0.2914 - val_root_mean_squared_error: 0.5398\n",
      "Epoch 9/50\n",
      "1/1 [==============================] - 0s 72ms/step - loss: 0.5953 - root_mean_squared_error: 0.7715 - val_loss: 0.3121 - val_root_mean_squared_error: 0.5586\n",
      "Epoch 9: early stopping\n"
     ]
    }
   ],
   "source": [
    "import time\n",
    "start_time = time.time()\n",
    "\n",
    "early_stop = EarlyStopping(monitor=monitor, min_delta = 0.0, patience=5, verbose=1, mode='min')\n",
    "\n",
    "history = model.fit(\n",
    "    X_train, \n",
    "    y_train, \n",
    "    epochs=50,\n",
    "    validation_data=(X_test, y_test), \n",
    "    callbacks=[early_stop] \n",
    ")\n",
    "\n",
    "end_time = time.time()"
   ]
  },
  {
   "cell_type": "code",
   "execution_count": 86,
   "id": "768d6372",
   "metadata": {},
   "outputs": [
    {
     "data": {
      "image/png": "[encoded data removed]",
      "text/plain": [
       "<Figure size 1080x504 with 2 Axes>"
      ]
     },
     "metadata": {
      "needs_background": "light"
     },
     "output_type": "display_data"
    }
   ],
   "source": [
    "fig, (ax1, ax2) = plt.subplots(1, 2, figsize=(15, 7))\n",
    "fig.suptitle('Con1D Model Evaluation')\n",
    "\n",
    "ax1.set_title('loss')\n",
    "#ax1.set_ylim(0, 100)\n",
    "ax1.plot(history.history['loss'])\n",
    "ax1.plot(history.history['val_loss'])\n",
    "ax1.legend(['train', 'test'], loc='upper left')\n",
    "\n",
    "ax2.set_title('RMSE')\n",
    "#ax2.set_ylim(0, 1)\n",
    "ax2.plot(history.history['root_mean_squared_error'])\n",
    "ax2.plot(history.history['val_root_mean_squared_error'])\n",
    "ax2.legend(['train', 'test'], loc='upper left')\n",
    "\n",
    "plt.show()"
   ]
  },
  {
   "cell_type": "markdown",
   "id": "c8dde0b4",
   "metadata": {},
   "source": [
    "### Predictions"
   ]
  },
  {
   "cell_type": "code",
   "execution_count": 87,
   "id": "5d5a4271",
   "metadata": {},
   "outputs": [
    {
     "name": "stdout",
     "output_type": "stream",
     "text": [
      "1/1 [==============================] - 1s 1s/step\n"
     ]
    }
   ],
   "source": [
    "#Predict:\n",
    "y_pred = model.predict(X_test)"
   ]
  },
  {
   "cell_type": "code",
   "execution_count": 88,
   "id": "1886fc98",
   "metadata": {},
   "outputs": [],
   "source": [
    "#Remember, these are standardized values. \n",
    "\n",
    "comparison = pd.DataFrame()\n",
    "\n",
    "comparison['actual'] = scaler.inverse_transform([y_test]).flatten()\n",
    "comparison['predicted'] = scaler.inverse_transform(y_pred).flatten()"
   ]
  },
  {
   "cell_type": "code",
   "execution_count": 89,
   "id": "64893343",
   "metadata": {},
   "outputs": [
    {
     "data": {
      "text/plain": [
       "250.58790193571198"
      ]
     },
     "execution_count": 89,
     "metadata": {},
     "output_type": "execute_result"
    }
   ],
   "source": [
    "mse_7=mean_squared_error(comparison['actual'], comparison['predicted'])\n",
    "mse_7"
   ]
  },
  {
   "cell_type": "code",
   "execution_count": 90,
   "id": "05ad3613",
   "metadata": {},
   "outputs": [
    {
     "data": {
      "image/png": "[encoded data removed]",
      "text/plain": [
       "<Figure size 432x288 with 1 Axes>"
      ]
     },
     "metadata": {
      "needs_background": "light"
     },
     "output_type": "display_data"
    }
   ],
   "source": [
    "plt.plot(comparison['actual'], label = 'actual')\n",
    "plt.plot(comparison['predicted'], label = 'predicted')\n",
    "\n",
    "plt.legend()\n",
    "\n",
    "plt.show()"
   ]
  },
  {
   "cell_type": "code",
   "execution_count": 91,
   "id": "289c6037",
   "metadata": {},
   "outputs": [],
   "source": [
    "df_result = pd.DataFrame(\n",
    "    {\n",
    "        'model': ['CONV1D'], \n",
    "        'mean_squared_error': mse_7\n",
    "    }\n",
    ")\n",
    "\n",
    "df_results = pd.concat([df_results, df_result], ignore_index=True, axis=0)"
   ]
  },
  {
   "cell_type": "code",
   "execution_count": 92,
   "id": "e8cd41d0",
   "metadata": {},
   "outputs": [
    {
     "data": {
      "text/html": [
       "<div>\n",
       "<style scoped>\n",
       "    .dataframe tbody tr th:only-of-type {\n",
       "        vertical-align: middle;\n",
       "    }\n",
       "\n",
       "    .dataframe tbody tr th {\n",
       "        vertical-align: top;\n",
       "    }\n",
       "\n",
       "    .dataframe thead th {\n",
       "        text-align: right;\n",
       "    }\n",
       "</style>\n",
       "<table border=\"1\" class=\"dataframe\">\n",
       "  <thead>\n",
       "    <tr style=\"text-align: right;\">\n",
       "      <th></th>\n",
       "      <th>model</th>\n",
       "      <th>mean_squared_error</th>\n",
       "    </tr>\n",
       "  </thead>\n",
       "  <tbody>\n",
       "    <tr>\n",
       "      <th>1</th>\n",
       "      <td>Deep RNN</td>\n",
       "      <td>56.157821</td>\n",
       "    </tr>\n",
       "    <tr>\n",
       "      <th>4</th>\n",
       "      <td>Gru with one layer</td>\n",
       "      <td>116.747299</td>\n",
       "    </tr>\n",
       "    <tr>\n",
       "      <th>5</th>\n",
       "      <td>Deep GRU</td>\n",
       "      <td>163.035482</td>\n",
       "    </tr>\n",
       "    <tr>\n",
       "      <th>2</th>\n",
       "      <td>LSTM with one layer</td>\n",
       "      <td>163.635936</td>\n",
       "    </tr>\n",
       "    <tr>\n",
       "      <th>0</th>\n",
       "      <td>RNN</td>\n",
       "      <td>174.909572</td>\n",
       "    </tr>\n",
       "    <tr>\n",
       "      <th>3</th>\n",
       "      <td>Deep LSTM</td>\n",
       "      <td>195.189138</td>\n",
       "    </tr>\n",
       "    <tr>\n",
       "      <th>6</th>\n",
       "      <td>CONV1D</td>\n",
       "      <td>250.587902</td>\n",
       "    </tr>\n",
       "  </tbody>\n",
       "</table>\n",
       "</div>"
      ],
      "text/plain": [
       "                 model  mean_squared_error\n",
       "1             Deep RNN           56.157821\n",
       "4   Gru with one layer          116.747299\n",
       "5             Deep GRU          163.035482\n",
       "2  LSTM with one layer          163.635936\n",
       "0                  RNN          174.909572\n",
       "3           Deep LSTM           195.189138\n",
       "6               CONV1D          250.587902"
      ]
     },
     "execution_count": 92,
     "metadata": {},
     "output_type": "execute_result"
    }
   ],
   "source": [
    "df_results.sort_values(by=['mean_squared_error'], ascending=True)"
   ]
  },
  {
   "cell_type": "markdown",
   "id": "df58200f",
   "metadata": {},
   "source": [
    "## CONCLUSION :\n",
    "\n",
    "1.From the above summary table, it is evident that the root mean square error value for Deep RNN is comparatively low to other models, so this Deep RNN model is used best to predict the closing price.\n",
    "\n",
    "2.Deep RNN fits the model values closely and predicts the next day closing value clearly.\n",
    "\n",
    "3.LSTM with single layer has high Root mean square, it is not a good model to predict the values along with RNN and Deep LSTM.\n",
    "\n",
    "4.Therefore, Deep Recurrent Neural Network is the best fit model in predicting the tenth day stock price for Costco.\n",
    "\n"
   ]
  }
 ],
 "metadata": {
  "kernelspec": {
   "display_name": "Python 3 (ipykernel)",
   "language": "python",
   "name": "python3"
  },
  "language_info": {
   "codemirror_mode": {
    "name": "ipython",
    "version": 3
   },
   "file_extension": ".py",
   "mimetype": "text/x-python",
   "name": "python",
   "nbconvert_exporter": "python",
   "pygments_lexer": "ipython3",
   "version": "3.9.12"
  }
 },
 "nbformat": 4,
 "nbformat_minor": 5
}
